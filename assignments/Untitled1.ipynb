{
 "cells": [
  {
   "cell_type": "code",
   "execution_count": 28,
   "metadata": {},
   "outputs": [
    {
     "data": {
      "text/plain": [
       "Index(['age', 'workclass', 'fnlwgt', 'education', 'education_num',\n",
       "       'marital_status', 'occupation', 'relationship', 'race', 'sex',\n",
       "       'capital_gain', 'capital_loss', 'hours_per_week', 'native_country',\n",
       "       'class_'],\n",
       "      dtype='object')"
      ]
     },
     "execution_count": 28,
     "metadata": {},
     "output_type": "execute_result"
    }
   ],
   "source": [
    "import pandas as pd\n",
    "import numpy as np\n",
    "col_names=['age','workclass','fnlwgt','education','education_num','marital_status','occupation','relationship',\n",
    "           'race','sex','capital_gain','capital_loss','hours_per_week','native_country','class_']\n",
    "\n",
    "train = pd.read_csv(\"adult.data.txt\",sep=',',header=None, names=col_names)\n",
    "test = pd.read_csv(\"adult.test.txt\",sep=',',skiprows=1,header=None,names=col_names)\n",
    "\n",
    "train['workclass'] = train.workclass.astype('category')\n",
    "train['education'] = train.education.astype('category')\n",
    "train['marital_status'] = train.marital_status.astype('category')\n",
    "train['occupation'] = train.occupation.astype('category')\n",
    "train['relationship'] = train.relationship.astype('category')\n",
    "train['race'] = train.race.astype('category')\n",
    "train['sex'] = train.sex.astype('category')\n",
    "train['native_country'] = train.native_country.astype('category')\n",
    "train['class_'] = train.class_.astype('category')\n",
    "\n",
    "train.columns"
   ]
  },
  {
   "cell_type": "code",
   "execution_count": 29,
   "metadata": {},
   "outputs": [
    {
     "data": {
      "text/html": [
       "<div>\n",
       "<style scoped>\n",
       "    .dataframe tbody tr th:only-of-type {\n",
       "        vertical-align: middle;\n",
       "    }\n",
       "\n",
       "    .dataframe tbody tr th {\n",
       "        vertical-align: top;\n",
       "    }\n",
       "\n",
       "    .dataframe thead th {\n",
       "        text-align: right;\n",
       "    }\n",
       "</style>\n",
       "<table border=\"1\" class=\"dataframe\">\n",
       "  <thead>\n",
       "    <tr style=\"text-align: right;\">\n",
       "      <th></th>\n",
       "      <th>age</th>\n",
       "      <th>fnlwgt</th>\n",
       "      <th>education_num</th>\n",
       "      <th>capital_gain</th>\n",
       "      <th>capital_loss</th>\n",
       "      <th>hours_per_week</th>\n",
       "      <th>class_</th>\n",
       "      <th>C__ ?</th>\n",
       "      <th>C__ Federal-gov</th>\n",
       "      <th>C__ Local-gov</th>\n",
       "      <th>...</th>\n",
       "      <th>C__ Portugal</th>\n",
       "      <th>C__ Puerto-Rico</th>\n",
       "      <th>C__ Scotland</th>\n",
       "      <th>C__ South</th>\n",
       "      <th>C__ Taiwan</th>\n",
       "      <th>C__ Thailand</th>\n",
       "      <th>C__ Trinadad&amp;Tobago</th>\n",
       "      <th>C__ United-States</th>\n",
       "      <th>C__ Vietnam</th>\n",
       "      <th>C__ Yugoslavia</th>\n",
       "    </tr>\n",
       "  </thead>\n",
       "  <tbody>\n",
       "    <tr>\n",
       "      <th>0</th>\n",
       "      <td>39</td>\n",
       "      <td>77516</td>\n",
       "      <td>13</td>\n",
       "      <td>2174</td>\n",
       "      <td>0</td>\n",
       "      <td>40</td>\n",
       "      <td>&lt;=50K</td>\n",
       "      <td>0</td>\n",
       "      <td>0</td>\n",
       "      <td>0</td>\n",
       "      <td>...</td>\n",
       "      <td>0</td>\n",
       "      <td>0</td>\n",
       "      <td>0</td>\n",
       "      <td>0</td>\n",
       "      <td>0</td>\n",
       "      <td>0</td>\n",
       "      <td>0</td>\n",
       "      <td>1</td>\n",
       "      <td>0</td>\n",
       "      <td>0</td>\n",
       "    </tr>\n",
       "    <tr>\n",
       "      <th>1</th>\n",
       "      <td>50</td>\n",
       "      <td>83311</td>\n",
       "      <td>13</td>\n",
       "      <td>0</td>\n",
       "      <td>0</td>\n",
       "      <td>13</td>\n",
       "      <td>&lt;=50K</td>\n",
       "      <td>0</td>\n",
       "      <td>0</td>\n",
       "      <td>0</td>\n",
       "      <td>...</td>\n",
       "      <td>0</td>\n",
       "      <td>0</td>\n",
       "      <td>0</td>\n",
       "      <td>0</td>\n",
       "      <td>0</td>\n",
       "      <td>0</td>\n",
       "      <td>0</td>\n",
       "      <td>1</td>\n",
       "      <td>0</td>\n",
       "      <td>0</td>\n",
       "    </tr>\n",
       "    <tr>\n",
       "      <th>2</th>\n",
       "      <td>38</td>\n",
       "      <td>215646</td>\n",
       "      <td>9</td>\n",
       "      <td>0</td>\n",
       "      <td>0</td>\n",
       "      <td>40</td>\n",
       "      <td>&lt;=50K</td>\n",
       "      <td>0</td>\n",
       "      <td>0</td>\n",
       "      <td>0</td>\n",
       "      <td>...</td>\n",
       "      <td>0</td>\n",
       "      <td>0</td>\n",
       "      <td>0</td>\n",
       "      <td>0</td>\n",
       "      <td>0</td>\n",
       "      <td>0</td>\n",
       "      <td>0</td>\n",
       "      <td>1</td>\n",
       "      <td>0</td>\n",
       "      <td>0</td>\n",
       "    </tr>\n",
       "    <tr>\n",
       "      <th>3</th>\n",
       "      <td>53</td>\n",
       "      <td>234721</td>\n",
       "      <td>7</td>\n",
       "      <td>0</td>\n",
       "      <td>0</td>\n",
       "      <td>40</td>\n",
       "      <td>&lt;=50K</td>\n",
       "      <td>0</td>\n",
       "      <td>0</td>\n",
       "      <td>0</td>\n",
       "      <td>...</td>\n",
       "      <td>0</td>\n",
       "      <td>0</td>\n",
       "      <td>0</td>\n",
       "      <td>0</td>\n",
       "      <td>0</td>\n",
       "      <td>0</td>\n",
       "      <td>0</td>\n",
       "      <td>1</td>\n",
       "      <td>0</td>\n",
       "      <td>0</td>\n",
       "    </tr>\n",
       "    <tr>\n",
       "      <th>4</th>\n",
       "      <td>28</td>\n",
       "      <td>338409</td>\n",
       "      <td>13</td>\n",
       "      <td>0</td>\n",
       "      <td>0</td>\n",
       "      <td>40</td>\n",
       "      <td>&lt;=50K</td>\n",
       "      <td>0</td>\n",
       "      <td>0</td>\n",
       "      <td>0</td>\n",
       "      <td>...</td>\n",
       "      <td>0</td>\n",
       "      <td>0</td>\n",
       "      <td>0</td>\n",
       "      <td>0</td>\n",
       "      <td>0</td>\n",
       "      <td>0</td>\n",
       "      <td>0</td>\n",
       "      <td>0</td>\n",
       "      <td>0</td>\n",
       "      <td>0</td>\n",
       "    </tr>\n",
       "  </tbody>\n",
       "</table>\n",
       "<p>5 rows × 109 columns</p>\n",
       "</div>"
      ],
      "text/plain": [
       "   age  fnlwgt  education_num  capital_gain  capital_loss  hours_per_week  \\\n",
       "0   39   77516             13          2174             0              40   \n",
       "1   50   83311             13             0             0              13   \n",
       "2   38  215646              9             0             0              40   \n",
       "3   53  234721              7             0             0              40   \n",
       "4   28  338409             13             0             0              40   \n",
       "\n",
       "   class_  C__ ?  C__ Federal-gov  C__ Local-gov  ...  C__ Portugal  \\\n",
       "0   <=50K      0                0              0  ...             0   \n",
       "1   <=50K      0                0              0  ...             0   \n",
       "2   <=50K      0                0              0  ...             0   \n",
       "3   <=50K      0                0              0  ...             0   \n",
       "4   <=50K      0                0              0  ...             0   \n",
       "\n",
       "   C__ Puerto-Rico  C__ Scotland  C__ South  C__ Taiwan  C__ Thailand  \\\n",
       "0                0             0          0           0             0   \n",
       "1                0             0          0           0             0   \n",
       "2                0             0          0           0             0   \n",
       "3                0             0          0           0             0   \n",
       "4                0             0          0           0             0   \n",
       "\n",
       "   C__ Trinadad&Tobago  C__ United-States  C__ Vietnam  C__ Yugoslavia  \n",
       "0                    0                  1            0               0  \n",
       "1                    0                  1            0               0  \n",
       "2                    0                  1            0               0  \n",
       "3                    0                  1            0               0  \n",
       "4                    0                  0            0               0  \n",
       "\n",
       "[5 rows x 109 columns]"
      ]
     },
     "execution_count": 29,
     "metadata": {},
     "output_type": "execute_result"
    }
   ],
   "source": [
    "#Create dummy variables for categorical variables\n",
    "train_dum = pd.get_dummies(train, prefix='C_', columns=['workclass'])\n",
    "train_dum = pd.get_dummies(train_dum, prefix='C_', columns=['education'])\n",
    "train_dum = pd.get_dummies(train_dum, prefix='C_', columns=['marital_status'])\n",
    "train_dum = pd.get_dummies(train_dum, prefix='C_', columns=['occupation'])\n",
    "train_dum = pd.get_dummies(train_dum, prefix='C_', columns=['relationship'])\n",
    "train_dum = pd.get_dummies(train_dum, prefix='C_', columns=['race'])\n",
    "train_dum = pd.get_dummies(train_dum, prefix='C_', columns=['sex'])\n",
    "train_dum = pd.get_dummies(train_dum, prefix='C_', columns=['native_country'])\n",
    "\n",
    "Y_train=train.loc[:,'class_']\n",
    "Y_train=Y_train.replace(to_replace=' >50K',value=1)\n",
    "Y_train=Y_train.replace(to_replace=' <=50K',value=0)\n",
    "\n",
    "X_train=train_dum\n",
    "X_train.head()"
   ]
  },
  {
   "cell_type": "code",
   "execution_count": 90,
   "metadata": {},
   "outputs": [],
   "source": [
    "from sklearn.ensemble import RandomForestClassifier\n",
    "clf=RandomForestClassifier(n_estimators=100)\n",
    "#X_train = X_train.drop(columns = ['class_'])\n",
    "X = X_train\n",
    "y = Y_train"
   ]
  },
  {
   "cell_type": "code",
   "execution_count": 91,
   "metadata": {},
   "outputs": [
    {
     "data": {
      "text/plain": [
       "RandomForestClassifier(bootstrap=True, class_weight=None, criterion='gini',\n",
       "            max_depth=None, max_features='auto', max_leaf_nodes=None,\n",
       "            min_impurity_decrease=0.0, min_impurity_split=None,\n",
       "            min_samples_leaf=1, min_samples_split=2,\n",
       "            min_weight_fraction_leaf=0.0, n_estimators=100, n_jobs=None,\n",
       "            oob_score=False, random_state=None, verbose=0,\n",
       "            warm_start=False)"
      ]
     },
     "execution_count": 91,
     "metadata": {},
     "output_type": "execute_result"
    }
   ],
   "source": [
    "clf.fit(X,y)"
   ]
  },
  {
   "cell_type": "code",
   "execution_count": 92,
   "metadata": {},
   "outputs": [
    {
     "name": "stdout",
     "output_type": "stream",
     "text": [
      "Accuracy: 0.9999385768250361\n"
     ]
    }
   ],
   "source": [
    "y_pred = clf.predict(X)\n",
    "accuracy = sum(y_pred == y)/y.shape[0]\n",
    "print(\"Accuracy: {}\".format(accuracy))"
   ]
  },
  {
   "cell_type": "code",
   "execution_count": 93,
   "metadata": {},
   "outputs": [],
   "source": [
    "test_dum = pd.get_dummies(test, prefix='C_', columns=['workclass'])\n",
    "test_dum = pd.get_dummies(test_dum, prefix='C_', columns=['education'])\n",
    "test_dum = pd.get_dummies(test_dum, prefix='C_', columns=['marital_status'])\n",
    "test_dum = pd.get_dummies(test_dum, prefix='C_', columns=['occupation'])\n",
    "test_dum = pd.get_dummies(test_dum, prefix='C_', columns=['relationship'])\n",
    "test_dum = pd.get_dummies(test_dum, prefix='C_', columns=['race'])\n",
    "test_dum = pd.get_dummies(test_dum, prefix='C_', columns=['sex'])\n",
    "test_dum = pd.get_dummies(test_dum, prefix='C_', columns=['native_country'])"
   ]
  },
  {
   "cell_type": "code",
   "execution_count": 94,
   "metadata": {},
   "outputs": [],
   "source": [
    "Y_test=test.loc[:,'class_']\n",
    "Y_test=Y_test.replace(to_replace=' >50K.',value=1)\n",
    "Y_test=Y_test.replace(to_replace=' <=50K.',value=0)\n",
    "X_test = test_dum\n",
    "#As there is no observation that has a C__ Holand-Netherlands value, the test set dataframe doesn't have this column,\n",
    "#Therefore, I should add this column back to the test set to make sure the format is the same as training set\n",
    "idx=X_train.columns.get_loc(\"C__ Holand-Netherlands\")\n",
    "X_test.insert(loc=idx, column=\"C__ Holand-Netherlands\", value=0)"
   ]
  },
  {
   "cell_type": "code",
   "execution_count": 95,
   "metadata": {},
   "outputs": [],
   "source": [
    "X_test = X_test.drop(columns = ['class_'])"
   ]
  },
  {
   "cell_type": "code",
   "execution_count": 96,
   "metadata": {},
   "outputs": [
    {
     "name": "stdout",
     "output_type": "stream",
     "text": [
      "Accuracy for the test set: 0.8520361157177078\n"
     ]
    }
   ],
   "source": [
    "X_test = X_test\n",
    "y_test = Y_test\n",
    "pred_test = clf.predict(X_test)\n",
    "Accuracy_Test = sum(pred_test == y_test)/y_test.shape[0]\n",
    "print(\"Accuracy for the test set: {}\".format(Accuracy_Test))"
   ]
  },
  {
   "cell_type": "code",
   "execution_count": null,
   "metadata": {},
   "outputs": [],
   "source": []
  }
 ],
 "metadata": {
  "kernelspec": {
   "display_name": "Python 3",
   "language": "python",
   "name": "python3"
  },
  "language_info": {
   "codemirror_mode": {
    "name": "ipython",
    "version": 3
   },
   "file_extension": ".py",
   "mimetype": "text/x-python",
   "name": "python",
   "nbconvert_exporter": "python",
   "pygments_lexer": "ipython3",
   "version": "3.7.1"
  }
 },
 "nbformat": 4,
 "nbformat_minor": 2
}
