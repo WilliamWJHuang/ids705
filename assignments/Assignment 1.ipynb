{
 "cells": [
  {
   "cell_type": "markdown",
   "metadata": {},
   "source": [
    "# Assignment 1 - Probability, Linear Algebra, Programming, and Git\n",
    "\n",
    "## *William Wei-Jung Huang*\n",
    "Netid:  *wh132*"
   ]
  },
  {
   "cell_type": "markdown",
   "metadata": {},
   "source": [
    "# Probability and Statistics Theory"
   ]
  },
  {
   "cell_type": "markdown",
   "metadata": {
    "collapsed": true
   },
   "source": [
    "## 1\n",
    "Let $f(x) = \\begin{cases}\n",
    "                0           & x < 0  \\\\\n",
    "                \\alpha x^2  & 0 \\leq x \\leq 2 \\\\\n",
    "                0           & 2 < x\n",
    "            \\end{cases}$\n",
    "            \n",
    "For what value of $\\alpha$ is $f(x)$ a valid probability density function?\n",
    "\n",
    "*Note: for all assignments, write out all equations and math for all assignments using markdown and [LaTeX](https://tobi.oetiker.ch/lshort/lshort.pdf) and show all work*"
   ]
  },
  {
   "cell_type": "markdown",
   "metadata": {},
   "source": [
    "**ANSWER**\n",
    "\n"
   ]
  },
  {
   "cell_type": "markdown",
   "metadata": {},
   "source": [
    "A probability density function $f$ must satisfy:\n",
    " $\\\\1)\\> f(x)\\> >= 0 \\quad for \\>all \\> x, \\\\2)\\int_{-\\infty}^{\\infty} f(x)dx = 1$\n",
    " \n",
    " Solutions:\n",
    " $\\\\ \\int_{0}^{2} f(x)dx = 1 \\frac{\\alpha}{3} x^3 \\bigg|_0^2 = \\frac{8}{3} \\alpha = 1 \\\\\n",
    " \\alpha = \\frac{3}{8}$\n",
    " "
   ]
  },
  {
   "cell_type": "markdown",
   "metadata": {},
   "source": [
    "## 2\n",
    "What is the cumulative distribution function (CDF) that corresponds to the following probability distribution function? Please state the value of the CDF for all possible values of $x$.\n",
    "\n",
    "$f(x) = \\begin{cases}\n",
    "    \\frac{1}{3} & 0 < x < 3 \\\\\n",
    "    0           & \\text{otherwise}\n",
    "    \\end{cases}$"
   ]
  },
  {
   "cell_type": "markdown",
   "metadata": {},
   "source": [
    "**ANSWER**\n",
    "The definition of CDF is $F_{X}(x)=\\operatorname {P} (X\\leq x)$. \n",
    "Therefore, $F(x) = \\int_{0}^{x} f(x)dx = \\frac{1}{3} x \\Big|_0^x = \\frac{1}{3} x =\\begin{cases}\n",
    "    0 & x \\leq 0 \\\\\n",
    "    \\frac{1}{3}x   & 0< x \\leq 3 \\\\\n",
    "    1 & x> 3\n",
    "    \\end{cases}$\n"
   ]
  },
  {
   "cell_type": "markdown",
   "metadata": {},
   "source": [
    "## 3\n",
    "For the probability distribution function for the random variable $X$,\n",
    "\n",
    "$f(x) = \\begin{cases}\n",
    "    \\frac{1}{3} & 0 < x < 3 \\\\\n",
    "    0           & \\text{otherwise}\n",
    "    \\end{cases}$\n",
    "    \n",
    "what is the (a) expected value and (b) variance of $X$. *Show all work*."
   ]
  },
  {
   "cell_type": "markdown",
   "metadata": {},
   "source": [
    "**ANSWER**\n",
    "\n",
    "(a) Expected value:\n",
    "$\\\\E(X) = \\int_{0}^{3} x\\space f(x)dx = \\frac{1}{6}x^2 \\bigg |_0^3 = \\frac{9}{6} = \\frac{3}{2} $\n",
    "\n",
    "\n",
    "\n",
    "(b) Variance:\n",
    "$\\\\V(X) = E[X- E(X)]^2 = E(X^2) - E(X)^2 = \\int_{0}^{3} \\frac{1}{3}x^2\\space dx -(\\frac{3}{2})^2  = \\frac{1}{9} x^3 \\Big|_0^3 - \\frac{9}{4} = 3 - \\frac{9}{4} =\\frac{3}{4}$ \n",
    "\n"
   ]
  },
  {
   "cell_type": "markdown",
   "metadata": {},
   "source": [
    "## 4\n",
    "Consider the following table of data that provides the values of a discrete data vector $\\mathbf{x}$ of samples from the random variable $X$, where each entry in $\\mathbf{x}$ is given as $x_i$.\n",
    "\n",
    "*Table 1. Dataset N=5 observations*\n",
    "\n",
    "|        | $x_0$ | $x_1$ | $x_2$ | $x_3$ | $x_4$ |\n",
    "|------  |-------|-------|-------|-------|-------|\n",
    "|$\\textbf{x}$| 2     | 3     | 10    | -1    | -1    |\n",
    "\n",
    "What is the (a) mean, (b) variance, and the  of the data? \n",
    "\n",
    "*Show all work. Your answer should include the definition of mean, median, and variance in the context of discrete data.*"
   ]
  },
  {
   "cell_type": "markdown",
   "metadata": {},
   "source": [
    "**ANSWER**\n",
    "\n",
    "(a) Mean: Mean value can be calculated adding together all the values in a set and dividing the result by the number of members in the set. \n",
    " $\\\\ (x_0 + x_1 + x_2 + x_3 + x_4)/5 = 2.6$\n",
    "\n",
    "(b) Variance: \n",
    "\n",
    "Definition of variance: ${Var} (X)={\\frac {1}{n}}\\sum _{i=1}^{n}(x_{i}-\\mu)^{2}\\\\\n",
    " \\sum_{i=0}^{5} (x_i - E(X)) =16.24$\n",
    "\n",
    "(c) Median: \n",
    "The \"middle\" of a sorted list of numbers.\n"
   ]
  },
  {
   "cell_type": "code",
   "execution_count": 16,
   "metadata": {},
   "outputs": [
    {
     "name": "stdout",
     "output_type": "stream",
     "text": [
      "(a) Mean  is 2.6\n",
      "(b) Variance is 16.24\n",
      "(c) Median is 2\n"
     ]
    }
   ],
   "source": [
    "#(a)\n",
    "import numpy as np\n",
    "q4 = np.array([2,3,10,-1,-1])\n",
    "mean = round(np.mean(q4),2)\n",
    "#(b)\n",
    "var = round(np.var(q4),2)\n",
    "print(\"(a) Mean  is {}\".format(mean))\n",
    "print(\"(b) Variance is {}\".format(var))\n",
    "print(\"(c) Median is 2\")"
   ]
  },
  {
   "cell_type": "markdown",
   "metadata": {},
   "source": [
    "## 5\n",
    "Review of counting from probability theory. \n",
    "\n",
    "(a) How many different 7-place license plates are possible if the first 3 places only contain letters and the last 4 only contain numbers?\n",
    "\n",
    "(b) How many different batting orders are possible for a baseball team with 9 players?\n",
    "\n",
    "(c) How many batting orders of 5 players are possible for a team with 9 players total?\n",
    "\n",
    "(d) Let's assume this class has 26 students and we want to form project teams. How many unique teams of 3 are possible?\n",
    "\n",
    "*Hint: For each problem, determine if order matters, and if it should be calculated with or without replacement.*"
   ]
  },
  {
   "cell_type": "markdown",
   "metadata": {},
   "source": [
    "**ANSWER**\n",
    "\n",
    "(a) $26^3 \\times 10^4 = 175760000$\n",
    "\n",
    "(b) $9! = 362880$\n",
    "\n",
    "(c) $C_{5}^{9} \\times 5! = 15120$\n",
    "\n",
    "(d) $C_{3}^{26} = 2600$\n",
    "\n"
   ]
  },
  {
   "cell_type": "markdown",
   "metadata": {},
   "source": [
    "# Linear Algebra"
   ]
  },
  {
   "cell_type": "markdown",
   "metadata": {},
   "source": [
    "## 6\n",
    "**Matrix manipulations and multiplication**. Machine learning involves working with many matrices, so this exercise will provide you with the opportunity to practice those skills.\n",
    "\n",
    "Let\n",
    "$\\mathbf{A} =  \\begin{bmatrix}\n",
    "1 & 2 & 3 \\\\\n",
    "2 & 4 & 5 \\\\\n",
    "3 & 5 & 6 \n",
    "\\end{bmatrix}$, $\\mathbf{b} =  \\begin{bmatrix}\n",
    "-1  \\\\\n",
    "3  \\\\\n",
    "8  \n",
    "\\end{bmatrix}$, $\\mathbf{c} =  \\begin{bmatrix}\n",
    "4  \\\\\n",
    "-3  \\\\\n",
    "6  \n",
    "\\end{bmatrix}$, and $\\mathbf{I} =  \\begin{bmatrix}\n",
    "1 & 0 & 0 \\\\\n",
    "0 & 1 & 0 \\\\\n",
    "0 & 0 & 1 \n",
    "\\end{bmatrix}$\n",
    "\n",
    "Compute the following or indicate that it cannot be computed:\n",
    "\n",
    "1. $\\mathbf{A}\\mathbf{A}$\n",
    "2. $\\mathbf{A}\\mathbf{A}^T$\n",
    "3. $\\mathbf{A}\\mathbf{b}$\n",
    "4. $\\mathbf{A}\\mathbf{b}^T$\n",
    "5. $\\mathbf{b}\\mathbf{A}$\n",
    "6. $\\mathbf{b}^T\\mathbf{A}$\n",
    "7. $\\mathbf{b}\\mathbf{b}$\n",
    "8. $\\mathbf{b}^T\\mathbf{b}$\n",
    "9. $\\mathbf{b}\\mathbf{b}^T$\n",
    "10. $\\mathbf{b} + \\mathbf{c}^T$\n",
    "11. $\\mathbf{b}^T\\mathbf{b}^T$\n",
    "12. $\\mathbf{A}^{-1}\\mathbf{b}$\n",
    "13. $\\mathbf{A}\\circ\\mathbf{A}$\n",
    "14. $\\mathbf{b}\\circ\\mathbf{c}$\n",
    "\n",
    "*Note: The element-wise (or Hadamard) product is the product of each element in one matrix with the corresponding element in another matrix, and is represented by the symbol \"$\\circ$\".*"
   ]
  },
  {
   "cell_type": "markdown",
   "metadata": {},
   "source": [
    "**ANSWER**\n",
    "\n",
    "1. $\\mathbf{A}\\mathbf{A} =  \\begin{bmatrix}\n",
    "14 & 25 & 31 \\\\\n",
    "25 & 45 & 56 \\\\\n",
    "31 & 56 & 60 \n",
    "\\end{bmatrix}$\n",
    "\n",
    "2. $\\mathbf{A}\\mathbf{A}^T = \\begin{bmatrix}\n",
    "14 & 25 & 31 \\\\\n",
    "25 & 45 & 56 \\\\\n",
    "31 & 56 & 60 \n",
    "\\end{bmatrix}$\n",
    "\n",
    "3. $\\mathbf{A}\\mathbf{b} = \\begin{bmatrix}\n",
    "29 \\\\\n",
    "50 \\\\\n",
    "60 \n",
    "\\end{bmatrix}$\n",
    "\n",
    "4. It cannot be computed.\n",
    "\n",
    "5. It cannot be computed.\n",
    "\n",
    "6. $\\mathbf{A}\\mathbf{b}^T = \\begin{bmatrix}\n",
    "29 & 50 & 60\n",
    "\\end{bmatrix}$\n",
    "\n",
    "7. It cannot be computed.\n",
    "\n",
    "8. $\\mathbf{b}^T\\mathbf{b} = \\begin{bmatrix}\n",
    "74\n",
    "\\end{bmatrix}$\n",
    "\n",
    "9. $\\mathbf{b}\\mathbf{b}^T = \\begin{bmatrix}\n",
    "1 & -3 & -8 \\\\\n",
    "-3 & 9 & 24 \\\\\n",
    "-8 & 24 & 64 \n",
    "\\end{bmatrix}$\n",
    "\n",
    "10. $\\mathbf{b} + \\mathbf{c}^T = \\begin{bmatrix}\n",
    "3 \\\\\n",
    "0 \\\\\n",
    "14 \n",
    "\\end{bmatrix}$\n",
    "\n",
    "11. It cannot be computed.\n",
    "\n",
    "12. $\\mathbf{A}^{-1}\\mathbf{b} = \\begin{bmatrix}\n",
    "1 & -3 & 2 \\\\\n",
    "-3 & 3 & -1 \\\\\n",
    "2 & -1 & 0\n",
    "\\end{bmatrix}\n",
    "\\begin{bmatrix}\n",
    "-1 \\\\\n",
    "3 \\\\\n",
    "8\n",
    "\\end{bmatrix} = \\begin{bmatrix}\n",
    "6 \\\\\n",
    "4 \\\\\n",
    "-5 \n",
    "\\end{bmatrix}$\n",
    "13. $\\mathbf{A}\\circ\\mathbf{A} = \\begin{bmatrix}\n",
    "1 & 4 & 9 \\\\\n",
    "4 & 16 & 25 \\\\\n",
    "9 & 25 & 36 \n",
    "\\end{bmatrix}$\n",
    "14. $\\mathbf{b}\\circ\\mathbf{c} = \\begin{bmatrix}\n",
    "-4  \\\\\n",
    "-9 \\\\\n",
    "48\n",
    "\\end{bmatrix}$\n"
   ]
  },
  {
   "cell_type": "markdown",
   "metadata": {},
   "source": [
    "## 6\n",
    "**Eigenvectors and eigenvalues**. Eigenvectors and eigenvalues are useful for some machine learning algorithms, but the concepts take time to solidly grasp. For an intuitive review of these concepts, explore this [interactive website at Setosa.io](http://setosa.io/ev/eigenvectors-and-eigenvalues/). Also, the series of linear algebra videos by Grant Sanderson of 3Brown1Blue are excellent and can be viewed on youtube [here](https://www.youtube.com/playlist?list=PLZHQObOWTQDPD3MizzM2xVFitgF8hE_ab).\n",
    "\n",
    "1. Calculate the eigenvalues and corresponding eigenvectors of matrix $\\mathbf{A}$ above, from the last question.\n",
    "2. Choose one of the eigenvector/eigenvalue pairs, $\\mathbf{v}$ and $\\lambda$, and show that $\\mathbf{A} \\mathbf{v} = \\lambda \\mathbf{v}$. Also show that this relationship extends to higher orders: $\\mathbf{A} \\mathbf{A} \\mathbf{v} = \\lambda^2 \\mathbf{v}$\n",
    "3. Show that the eigenvectors are orthogonal to one another (e.g. their inner product is zero). This is true for real, symmetric matrices."
   ]
  },
  {
   "cell_type": "markdown",
   "metadata": {},
   "source": [
    "**ANSWER**\n",
    "\n"
   ]
  },
  {
   "cell_type": "code",
   "execution_count": 64,
   "metadata": {},
   "outputs": [
    {
     "name": "stdout",
     "output_type": "stream",
     "text": [
      "1. eigenvalues: [ 11.34481428  -0.51572947   0.17091519], eigenvectors: [[-0.32798528 -0.73697623  0.59100905]\n",
      " [-0.59100905 -0.32798528 -0.73697623]\n",
      " [-0.73697623  0.59100905  0.32798528]]\n",
      "2.\n",
      "Av =  [ 0.38008036  0.16915167 -0.30480078]\n",
      "Lambda v [ 0.38008036  0.16915167 -0.30480078]\n",
      "AAv = [-0.19601864 -0.0872365   0.15719475]\n",
      "Lambda Lambda v = [-0.19601864 -0.0872365   0.15719475]\n",
      "eigenvector0*eigenvector1 =  -2.22044604925e-16\n",
      "eigenvector1*eigenvector2 =  -1.05471187339e-15\n",
      "eigenvector0*eigenvector2 =  -4.4408920985e-16\n",
      "As the products of eigenvectors are extremely close to zero, I believe that eigenvectors are perpendicular to one another.\n"
     ]
    }
   ],
   "source": [
    "#1\n",
    "A = np.array([[1,2,3],[2,4,5],[3,5,6]])\n",
    "eig_value, eig_vector = np.linalg.eig(A)\n",
    "print(\"1. eigenvalues: {}, eigenvectors: {}\".format(eig_value, eig_vector))\n",
    "\n",
    "#2\n",
    "print(\"2.\")\n",
    "Av = A.dot(eig_vector[:,1])\n",
    "lambdav = eig_value[1]*eig_vector[:,1]\n",
    "print(\"Av = \", Av)\n",
    "print(\"Lambda v\", lambdav)\n",
    "AAv = A.dot(A.dot(eig_vector[:,1]))\n",
    "LambdaLambdav = eig_value[1]*eig_value[1]*eig_vector[:,1]\n",
    "print(\"AAv =\", AAv)\n",
    "print(\"Lambda Lambda v =\", LambdaLambdav)\n",
    "\n",
    "#3\n",
    "ev0 = eig_vector[:,0]\n",
    "ev1 = eig_vector[:,1]\n",
    "ev2 = eig_vector[:,2]\n",
    "print(\"eigenvector0*eigenvector1 = \",ev0.dot(ev1))\n",
    "print(\"eigenvector1*eigenvector2 = \",ev1.dot(ev2))\n",
    "print(\"eigenvector0*eigenvector2 = \",ev0.dot(ev2))\n",
    "print(\"As the products of eigenvectors are extremely close to zero, I believe that eigenvectors are perpendicular to one another.\")"
   ]
  },
  {
   "cell_type": "markdown",
   "metadata": {},
   "source": [
    "# Numerical Programming"
   ]
  },
  {
   "cell_type": "markdown",
   "metadata": {},
   "source": [
    "## 7\n",
    "Speed comparison between vectorized and non-vectorized code. Begin by creating an array of 10 million random numbers using the numpy random.randn module. Compute the sum of the squares first in a for loop, then using Numpy's `dot` module. Time how long it takes to compute each and report the results and report the output. How many times faster is the vectorized code than the for loop approach?\n",
    "\n",
    "*Note: all code should be well commented, properly formatted, and your answers should be output using the `print()` function as follows (where the # represents your answers, to a reasonable precision):\n",
    "\n",
    "`Time [sec] (non-vectorized): ######`\n",
    "\n",
    "`Time [sec] (vectorized):     ######`\n",
    "\n",
    "`The vectorized code is ##### times faster than the vectorized code`"
   ]
  },
  {
   "cell_type": "markdown",
   "metadata": {},
   "source": [
    "**ANSWER**"
   ]
  },
  {
   "cell_type": "code",
   "execution_count": 69,
   "metadata": {},
   "outputs": [
    {
     "name": "stdout",
     "output_type": "stream",
     "text": [
      "Time 47.68984603881836 (non-vectorized)\n",
      "Time 0.04785895347595215 (vectorized)\n",
      "The vectorized code is 996.47 times faster than the vectorized code.\n"
     ]
    }
   ],
   "source": [
    "import numpy as np\n",
    "import time\n",
    "\n",
    "# Generate the random samples\n",
    "sample = np.random.randn(10000000,1)\n",
    "\n",
    "# Compute the sum of squares the non-vectorized way (using a for loop)\n",
    "start1 = time.time()\n",
    "sample_avg = sum(sample)/sample.shape[0]\n",
    "tss_nonvec = 0\n",
    "for i in sample:\n",
    "    tss_nonvec += i**2\n",
    "end1 = time.time()\n",
    "execution_time1 = end1 - start1\n",
    "\n",
    "# Compute the sum of squares the vectorized way (using numpy)\n",
    "start2 = time.time()\n",
    "tss_vec = 0\n",
    "tss_vec = np.sum(np.square(sample))\n",
    "end2 = time.time()\n",
    "execution_time2 = end2 - start2\n",
    "\n",
    "# Print the results\n",
    "print(\"Time {} (non-vectorized)\".format(execution_time1))\n",
    "print(\"Time {} (vectorized)\".format(execution_time2))\n",
    "print(\"The vectorized code is {} times faster than the vectorized code.\".format(round(execution_time1/execution_time2, 2)))"
   ]
  },
  {
   "cell_type": "markdown",
   "metadata": {},
   "source": [
    "\n",
    "## 8\n",
    "One popular Agile development framework is Scrum (a paradigm recommended for data science projects). It emphasizes the continual evolution of code for projects, becoming progressively better, but starting with a quickly developed minimum viable product. This often means that code written early on is not optimized, and that's a good thing - it's best to get it to work first before optimizing. Imagine that you wrote the following code during a sprint towards getting an end-to-end system working. Vectorize the following code and show the difference in speed between the current implementation and a vectorized version.\n",
    "\n",
    "The function below computes the function $f(x,y) = x^2 - 2 y^2$ and determines whether this quantity is above or below a given threshold, `thresh=0`. This is done for $x,y \\in \\{-4,4\\}$, over a 2,000-by-2,000 grid covering that domain.\n",
    "\n",
    "(a) Vectorize this code and demonstrate (as in the last exercise) the speed increase through vectorization and (b) plot the resulting data - both the function $f(x,y)$ and the thresholded output - using [`imshow`](https://matplotlib.org/api/_as_gen/matplotlib.pyplot.imshow.html?highlight=matplotlib%20pyplot%20imshow#matplotlib.pyplot.imshow) from `matplotlib`.\n",
    "\n",
    "*Hint: look at the `numpy` [`meshgrid`](https://docs.scipy.org/doc/numpy-1.13.0/reference/generated/numpy.meshgrid.html) documentation*"
   ]
  },
  {
   "cell_type": "code",
   "execution_count": 74,
   "metadata": {},
   "outputs": [
    {
     "name": "stdout",
     "output_type": "stream",
     "text": [
      "Time [sec] (non-vectorized):  10.371545999999967\n",
      "Time [sec] (vectorized):  0.08059299999996483\n",
      "The vectorized code is 128.69040735553327 times faster than the non-vectorized code\n"
     ]
    },
    {
     "data": {
      "image/png": "[encoded data removed]",
      "text/plain": [
       "<matplotlib.figure.Figure at 0x10e8bcf98>"
      ]
     },
     "metadata": {},
     "output_type": "display_data"
    }
   ],
   "source": [
    "%matplotlib inline\n",
    "import numpy as np\n",
    "import time\n",
    "import matplotlib.pyplot as plt\n",
    "\n",
    "# Initialize variables for this exerise\n",
    "thresh = 0\n",
    "x = np.linspace(-4, 4, 2000)\n",
    "y = np.linspace(-4, 4, 2000)\n",
    "\n",
    "xx, yy = np.meshgrid(x, y)\n",
    "\n",
    "# Nonvectorized implementation\n",
    "t1 = time.clock()\n",
    "\n",
    "f_thresh = np.zeros((2000, 2000))\n",
    "for i in range(0, 2000):\n",
    "    for j in range(0, 2000):\n",
    "        if (xx[i][j]**2 - 2*yy[i][j]**2) > thresh:\n",
    "            f_thresh[i][j] = 1\n",
    "        else:\n",
    "            f_thresh[i][j] = -1\n",
    "t2 = time.clock()\n",
    "\n",
    "# Vectorized implementation\n",
    "t3 = time.clock()\n",
    "f = xx*xx - 2*yy*yy\n",
    "f_thresh_2 = np.where(f > thresh, 1, -1)\n",
    "t4 = time.clock()\n",
    "\n",
    "# Print the time for each and the speed increase\n",
    "non_vec_t = t2 - t1\n",
    "vec_t = t4 - t3\n",
    "print(\"Time [sec] (non-vectorized): \", non_vec_t)\n",
    "print(\"Time [sec] (vectorized): \", vec_t)\n",
    "print(\"The vectorized code is {} times faster than the non-vectorized code\".format(non_vec_t / vec_t))\n",
    "\n",
    "# Plot the result\n",
    "plt.subplot(1, 2, 1)\n",
    "plt.imshow(f_thresh)\n",
    "plt.title('non-vectorized')\n",
    "plt.subplot(1, 2, 2)\n",
    "plt.imshow(f_thresh_2)\n",
    "plt.title('vectorized')\n",
    "plt.show()"
   ]
  },
  {
   "cell_type": "markdown",
   "metadata": {},
   "source": [
    "## 9\n",
    "This exercise will walk through some basic numerical programming exercises.\n",
    "1. Synthesize $n=10^4$ normally distributed data points with mean $\\mu=2$ and a standard deviation of $\\sigma=1$. Call these observations from a random variable $X$, and call the vector of observations that you generate, $\\textbf{x}$.\n",
    "2. Calculate the mean and standard deviation of $\\textbf{x}$ to validate (1) and provide the result to a precision of four significant figures.\n",
    "3. Plot a histogram of the data in $\\textbf{x}$ with 30 bins\n",
    "4. What is the 90th percentile of $\\textbf{x}$? The 90th percentile is the value below which 90% of observations can be found.\n",
    "5. What is the 99th percentile of $\\textbf{x}$?\n",
    "6. Now synthesize $n=10^4$ normally distributed data points with mean $\\mu=0$ and a standard deviation of $\\sigma=3$. Call these observations from a random variable $Y$, and call the vector of observations that you generate, $\\textbf{y}$.\n",
    "7. Plot the histogram of the data in $\\textbf{y}$ on a (new) plot with the histogram of $\\textbf{x}$, so that both histograms can be seen and compared.\n",
    "8. Using the observations from $\\textbf{x}$ and $\\textbf{y}$, estimate $E[XY]$"
   ]
  },
  {
   "cell_type": "markdown",
   "metadata": {},
   "source": [
    "**ANSWER**"
   ]
  },
  {
   "cell_type": "code",
   "execution_count": 58,
   "metadata": {},
   "outputs": [
    {
     "name": "stdout",
     "output_type": "stream",
     "text": [
      "mean = 2.0, standard deviation = 1.0\n"
     ]
    },
    {
     "data": {
      "image/png": "[encoded data removed]",
      "text/plain": [
       "<matplotlib.figure.Figure at 0x10a96a630>"
      ]
     },
     "metadata": {},
     "output_type": "display_data"
    },
    {
     "name": "stdout",
     "output_type": "stream",
     "text": [
      "The 90th percentile of x is 3.276776644612959\n",
      "The 99th percentile of x is 4.2645798759804165\n"
     ]
    },
    {
     "data": {
      "image/png": "[encoded data removed]",
      "text/plain": [
       "<matplotlib.figure.Figure at 0x10e4562e8>"
      ]
     },
     "metadata": {},
     "output_type": "display_data"
    },
    {
     "name": "stdout",
     "output_type": "stream",
     "text": [
      "E(XY) = 0.027125458085420138\n"
     ]
    }
   ],
   "source": [
    "import numpy as np\n",
    "import matplotlib.pyplot as plt\n",
    "\n",
    "# 1\n",
    "mu, sigma = 2, 1\n",
    "x = np.random.normal(mu, sigma, 10000)\n",
    "\n",
    "# 2\n",
    "q9_mean = round(np.mean(x))\n",
    "q9_sd = round(np.std(x))\n",
    "print(\"mean = {}, standard deviation = {}\".format(q9_mean, q9_sd))\n",
    "\n",
    "# 3\n",
    "plt.hist(x, bins=30)\n",
    "plt.show()\n",
    "\n",
    "# 4\n",
    "print(\"The 90th percentile of x is {}\".format(np.percentile(x, 90)))\n",
    "\n",
    "# 5\n",
    "print(\"The 99th percentile of x is {}\".format(np.percentile(x, 99)))\n",
    "\n",
    "# 6\n",
    "mu, sigma = 0, 3\n",
    "y = np.random.normal(mu, sigma, 10000)\n",
    "\n",
    "# 7\n",
    "plt.hist(x, 30, alpha=0.5, label='x')\n",
    "plt.hist(y, 30, alpha=0.5, label='y')\n",
    "plt.legend(loc='upper right')\n",
    "plt.show()\n",
    "\n",
    "# 8\n",
    "print(\"E(XY) = {}\".format(np.mean(x)*(np.mean(y))))"
   ]
  },
  {
   "cell_type": "markdown",
   "metadata": {},
   "source": [
    "## 10\n",
    "Estimate the integral of the function $f(x)$ on the interval $0\\leq x < 2.5$ assuming we only know the following points from $f$:\n",
    "\n",
    "*Table 1. Dataset containing n=5 observations*\n",
    "\n",
    "| $x_i$ | 0.0 | 0.5 | 1.0 | 1.5 | 2.0 |\n",
    "|-|-|-|-|-|-|\n",
    "| $y_i$ | 6 | 7 | 8 | 4 | 1 |\n"
   ]
  },
  {
   "cell_type": "markdown",
   "metadata": {},
   "source": [
    "**ANSWER**\n",
    "\n"
   ]
  },
  {
   "cell_type": "code",
   "execution_count": 73,
   "metadata": {},
   "outputs": [
    {
     "name": "stdout",
     "output_type": "stream",
     "text": [
      "10.60119047619046\n",
      " the integral of the function f(x) on the interval 0 <= x < 2.5:  10.60119047619046\n"
     ]
    },
    {
     "data": {
      "image/png": "[encoded data removed]",
      "text/plain": [
       "<matplotlib.figure.Figure at 0x10e96e9b0>"
      ]
     },
     "metadata": {},
     "output_type": "display_data"
    }
   ],
   "source": [
    "%matplotlib inline\n",
    "import numpy as np\n",
    "import matplotlib.pyplot as plt\n",
    "\n",
    "xi = np.array([0.0, 0.5, 1.0, 1.5, 2.0])\n",
    "yi = np.array([6, 7, 8, 4, 1])\n",
    "plt.scatter(xi, yi)\n",
    "\n",
    "#Fit a polynomial model\n",
    "Coff = np.polyfit(xi, yi, 2) #y~-3.7x**2 + 4.83x + 5.94  \n",
    "integral = 0.5 * np.sum(yi)\n",
    "\n",
    "#calculate integral\n",
    "from scipy.integrate import quad\n",
    "def integrand(x):\n",
    "    return Coff[0]*x**2 + Coff[1]*x + Coff[2]\n",
    "ans, err = quad(integrand, 0, 2.5)\n",
    "\n",
    "print(\" the integral of the function f(x) on the interval 0 <= x < 2.5: \", ans)"
   ]
  },
  {
   "cell_type": "markdown",
   "metadata": {
    "collapsed": true
   },
   "source": [
    "# Version Control via Git"
   ]
  },
  {
   "cell_type": "markdown",
   "metadata": {},
   "source": [
    "## 11\n",
    "Complete the [Atlassian Git tutorial](https://www.atlassian.com/git/tutorials/what-is-version-control), specifically the following sections. Try each concept that's presented. For this tutorial, instead of using BitBucket, use Github. Create a github account here if you don't already have one: https://github.com/\n",
    "1. [What is version control](https://www.atlassian.com/git/tutorials/what-is-version-control)\n",
    "2. [What is Git](https://www.atlassian.com/git/tutorials/what-is-git)\n",
    "3. [Install Git](https://www.atlassian.com/git/tutorials/install-git)\n",
    "4. [Setting up a repository](https://www.atlassian.com/git/tutorials/install-git)\n",
    "5. [Saving changes](https://www.atlassian.com/git/tutorials/saving-changes)\n",
    "6. [Inspecting a repository](https://www.atlassian.com/git/tutorials/inspecting-a-repository)\n",
    "7. [Undoing changes](https://www.atlassian.com/git/tutorials/undoing-changes)\n",
    "8. [Rewriting history](https://www.atlassian.com/git/tutorials/rewriting-history)\n",
    "9. [Syncing](https://www.atlassian.com/git/tutorials/syncing)\n",
    "10. [Making a pull request](https://www.atlassian.com/git/tutorials/making-a-pull-request)\n",
    "11. [Using branches](https://www.atlassian.com/git/tutorials/using-branches)\n",
    "12. [Comparing workflows](https://www.atlassian.com/git/tutorials/comparing-workflows)\n",
    "\n",
    "For your answer, affirm that you either completed the tutorial or have previous experience with all of the concepts above. Do this by typing your name below and selecting the situation that applies from the two options in brackets."
   ]
  },
  {
   "cell_type": "markdown",
   "metadata": {},
   "source": [
    "**ANSWER**\n",
    "\n",
    "*I, **William Huang**, affirm that I have completed the above tutorial.*"
   ]
  },
  {
   "cell_type": "markdown",
   "metadata": {},
   "source": [
    "## 12\n",
    "Using Github to create a static HTML website:\n",
    "1. Create a branch in your `machine-learning-course` repo called \"gh-pages\" and checkout that branch (this will provide an example of how to create a simple static website using [Github Pages](https://pages.github.com/))\n",
    "2. Create a file called \"index.html\" with the contents \"Hello World\" and add, commit, and push it to that branch.\n",
    "3. Submit the following: (a) a link to your github repository and (b) a link to your new \"Hello World\" website. The latter should be at the address https://[USERNAME].github.io/ECE590-assignment0 (where [USERNAME] is your github username)."
   ]
  },
  {
   "cell_type": "markdown",
   "metadata": {},
   "source": [
    "**ANSWER**\n",
    "(a) https://github.com/WilliamWJHuang/machine-learning-course/tree/gh-pages\n",
    "(b) https://williamwjhuang.github.io/machine-learning-course/"
   ]
  },
  {
   "cell_type": "markdown",
   "metadata": {
    "collapsed": true
   },
   "source": [
    "# Exploratory Data Analysis\n",
    "## 13\n",
    "Here you'll bring together some of the individual skills that you demonstrated above and create a Jupyter notebook based blog post on data analysis.\n",
    "\n",
    "1. Find a dataset that interests you and relates to a question or problem that you find intriguing\n",
    "2. Using a Jupyter notebook, describe the dataset, the source of the data, and the reason the dataset was of interest.\n",
    "3. Check the data and see if they need to be cleaned: are there missing values? Are there clearly erroneous values? Do two tables need to be merged together? Clean the data so it can be visualized.\n",
    "3. Plot the data, demonstrating interesting features that you discover. Are there any relationships between variables that were surprising or patterns that emerged? Please exercise creativity and curiosity in your plots.\n",
    "4. What insights are you able to take away from exploring the data? Is there a reason why analyzing the dataset you chose is particularly interesting or important? Summarize this as if your target audience was the readership of a major news organization - boil down your findings in a way that is accessible, but still accurate.\n",
    "5. Create a public repository on your github account titled \"machine-learning-course\". In it, create a readme file that contains the heading \"ECE590: Introductory Machine Learning for Data Science\". Add, commit, and push that Jupyter notebook to the master branch. Provide the link to the that post here."
   ]
  },
  {
   "cell_type": "markdown",
   "metadata": {},
   "source": [
    "**ANSWER**\n",
    "\n"
   ]
  },
  {
   "cell_type": "markdown",
   "metadata": {},
   "source": [
    "\n",
    "- **Problem**: How to predict the delinquency rate through information on loan applications\n",
    "- **The reason the dataset was of interest**: For the IDS702 course last semester, I constructed a logsitic regression model to interpret how the information on loan applications affect the delinquency rates of loan applicants with this dataset. For this semester, I am particularly interested in applying non-parametric methods on the same dataset and see how the performance differs from the parametric method.\n",
    "- **The source of the dataset**: The dataset is available on Kaggle and provided by Home Credit Group. (https://www.kaggle.com/c/home-credit-default-risk/data)\n",
    "- **Description of the dataset**: The dataset contains 122 variables and 38848 observations. \"TARGET\" is the response variable and the other 121 variables are predictors. The predictor variables describe different information on loan applications, for example, *CNT_CHILDREN* describes how many children does the loan applicant have."
   ]
  },
  {
   "cell_type": "code",
   "execution_count": 3,
   "metadata": {
    "collapsed": true
   },
   "outputs": [],
   "source": [
    "import pandas as pd\n",
    "train_data = pd.read_csv(\"application_train.csv\")"
   ]
  },
  {
   "cell_type": "code",
   "execution_count": 4,
   "metadata": {},
   "outputs": [
    {
     "data": {
      "text/plain": [
       "(38848, 122)"
      ]
     },
     "execution_count": 4,
     "metadata": {},
     "output_type": "execute_result"
    }
   ],
   "source": [
    "train_data.shape"
   ]
  },
  {
   "cell_type": "code",
   "execution_count": 5,
   "metadata": {},
   "outputs": [
    {
     "data": {
      "text/html": [
       "<div>\n",
       "<style scoped>\n",
       "    .dataframe tbody tr th:only-of-type {\n",
       "        vertical-align: middle;\n",
       "    }\n",
       "\n",
       "    .dataframe tbody tr th {\n",
       "        vertical-align: top;\n",
       "    }\n",
       "\n",
       "    .dataframe thead th {\n",
       "        text-align: right;\n",
       "    }\n",
       "</style>\n",
       "<table border=\"1\" class=\"dataframe\">\n",
       "  <thead>\n",
       "    <tr style=\"text-align: right;\">\n",
       "      <th></th>\n",
       "      <th>SK_ID_CURR</th>\n",
       "      <th>TARGET</th>\n",
       "      <th>CNT_CHILDREN</th>\n",
       "      <th>AMT_INCOME_TOTAL</th>\n",
       "      <th>AMT_CREDIT</th>\n",
       "      <th>AMT_ANNUITY</th>\n",
       "      <th>AMT_GOODS_PRICE</th>\n",
       "      <th>REGION_POPULATION_RELATIVE</th>\n",
       "      <th>DAYS_BIRTH</th>\n",
       "      <th>DAYS_EMPLOYED</th>\n",
       "      <th>...</th>\n",
       "      <th>FLAG_DOCUMENT_18</th>\n",
       "      <th>FLAG_DOCUMENT_19</th>\n",
       "      <th>FLAG_DOCUMENT_20</th>\n",
       "      <th>FLAG_DOCUMENT_21</th>\n",
       "      <th>AMT_REQ_CREDIT_BUREAU_HOUR</th>\n",
       "      <th>AMT_REQ_CREDIT_BUREAU_DAY</th>\n",
       "      <th>AMT_REQ_CREDIT_BUREAU_WEEK</th>\n",
       "      <th>AMT_REQ_CREDIT_BUREAU_MON</th>\n",
       "      <th>AMT_REQ_CREDIT_BUREAU_QRT</th>\n",
       "      <th>AMT_REQ_CREDIT_BUREAU_YEAR</th>\n",
       "    </tr>\n",
       "  </thead>\n",
       "  <tbody>\n",
       "    <tr>\n",
       "      <th>count</th>\n",
       "      <td>38848.000000</td>\n",
       "      <td>38848.000000</td>\n",
       "      <td>38848.000000</td>\n",
       "      <td>3.884800e+04</td>\n",
       "      <td>3.884800e+04</td>\n",
       "      <td>38848.000000</td>\n",
       "      <td>3.881900e+04</td>\n",
       "      <td>38848.000000</td>\n",
       "      <td>38848.000000</td>\n",
       "      <td>38848.000000</td>\n",
       "      <td>...</td>\n",
       "      <td>38847.000000</td>\n",
       "      <td>38847.000000</td>\n",
       "      <td>38847.000000</td>\n",
       "      <td>38847.000000</td>\n",
       "      <td>33619.000000</td>\n",
       "      <td>33619.000000</td>\n",
       "      <td>33619.000000</td>\n",
       "      <td>33619.000000</td>\n",
       "      <td>33619.000000</td>\n",
       "      <td>33619.000000</td>\n",
       "    </tr>\n",
       "    <tr>\n",
       "      <th>mean</th>\n",
       "      <td>122574.573389</td>\n",
       "      <td>0.080545</td>\n",
       "      <td>0.418709</td>\n",
       "      <td>1.711049e+05</td>\n",
       "      <td>5.990255e+05</td>\n",
       "      <td>27110.769061</td>\n",
       "      <td>5.383075e+05</td>\n",
       "      <td>0.020767</td>\n",
       "      <td>-16032.740476</td>\n",
       "      <td>63977.648991</td>\n",
       "      <td>...</td>\n",
       "      <td>0.008418</td>\n",
       "      <td>0.000669</td>\n",
       "      <td>0.000566</td>\n",
       "      <td>0.000386</td>\n",
       "      <td>0.007377</td>\n",
       "      <td>0.007763</td>\n",
       "      <td>0.033285</td>\n",
       "      <td>0.269015</td>\n",
       "      <td>0.260805</td>\n",
       "      <td>1.886047</td>\n",
       "    </tr>\n",
       "    <tr>\n",
       "      <th>std</th>\n",
       "      <td>12986.961189</td>\n",
       "      <td>0.272138</td>\n",
       "      <td>0.725396</td>\n",
       "      <td>6.008824e+05</td>\n",
       "      <td>4.015122e+05</td>\n",
       "      <td>14615.740691</td>\n",
       "      <td>3.689570e+05</td>\n",
       "      <td>0.013764</td>\n",
       "      <td>4357.226298</td>\n",
       "      <td>141429.955979</td>\n",
       "      <td>...</td>\n",
       "      <td>0.091362</td>\n",
       "      <td>0.025862</td>\n",
       "      <td>0.023791</td>\n",
       "      <td>0.019647</td>\n",
       "      <td>0.090308</td>\n",
       "      <td>0.112433</td>\n",
       "      <td>0.197383</td>\n",
       "      <td>0.926456</td>\n",
       "      <td>0.606724</td>\n",
       "      <td>1.864055</td>\n",
       "    </tr>\n",
       "    <tr>\n",
       "      <th>min</th>\n",
       "      <td>100002.000000</td>\n",
       "      <td>0.000000</td>\n",
       "      <td>0.000000</td>\n",
       "      <td>2.565000e+04</td>\n",
       "      <td>4.500000e+04</td>\n",
       "      <td>2052.000000</td>\n",
       "      <td>4.500000e+04</td>\n",
       "      <td>0.000533</td>\n",
       "      <td>-25182.000000</td>\n",
       "      <td>-17531.000000</td>\n",
       "      <td>...</td>\n",
       "      <td>0.000000</td>\n",
       "      <td>0.000000</td>\n",
       "      <td>0.000000</td>\n",
       "      <td>0.000000</td>\n",
       "      <td>0.000000</td>\n",
       "      <td>0.000000</td>\n",
       "      <td>0.000000</td>\n",
       "      <td>0.000000</td>\n",
       "      <td>0.000000</td>\n",
       "      <td>0.000000</td>\n",
       "    </tr>\n",
       "    <tr>\n",
       "      <th>25%</th>\n",
       "      <td>111301.750000</td>\n",
       "      <td>0.000000</td>\n",
       "      <td>0.000000</td>\n",
       "      <td>1.125000e+05</td>\n",
       "      <td>2.700000e+05</td>\n",
       "      <td>16456.500000</td>\n",
       "      <td>2.385000e+05</td>\n",
       "      <td>0.010006</td>\n",
       "      <td>-19666.000000</td>\n",
       "      <td>-2783.000000</td>\n",
       "      <td>...</td>\n",
       "      <td>0.000000</td>\n",
       "      <td>0.000000</td>\n",
       "      <td>0.000000</td>\n",
       "      <td>0.000000</td>\n",
       "      <td>0.000000</td>\n",
       "      <td>0.000000</td>\n",
       "      <td>0.000000</td>\n",
       "      <td>0.000000</td>\n",
       "      <td>0.000000</td>\n",
       "      <td>0.000000</td>\n",
       "    </tr>\n",
       "    <tr>\n",
       "      <th>50%</th>\n",
       "      <td>122655.500000</td>\n",
       "      <td>0.000000</td>\n",
       "      <td>0.000000</td>\n",
       "      <td>1.440000e+05</td>\n",
       "      <td>5.146898e+05</td>\n",
       "      <td>24939.000000</td>\n",
       "      <td>4.500000e+05</td>\n",
       "      <td>0.018850</td>\n",
       "      <td>-15754.500000</td>\n",
       "      <td>-1218.000000</td>\n",
       "      <td>...</td>\n",
       "      <td>0.000000</td>\n",
       "      <td>0.000000</td>\n",
       "      <td>0.000000</td>\n",
       "      <td>0.000000</td>\n",
       "      <td>0.000000</td>\n",
       "      <td>0.000000</td>\n",
       "      <td>0.000000</td>\n",
       "      <td>0.000000</td>\n",
       "      <td>0.000000</td>\n",
       "      <td>1.000000</td>\n",
       "    </tr>\n",
       "    <tr>\n",
       "      <th>75%</th>\n",
       "      <td>133844.250000</td>\n",
       "      <td>0.000000</td>\n",
       "      <td>1.000000</td>\n",
       "      <td>2.025000e+05</td>\n",
       "      <td>8.086500e+05</td>\n",
       "      <td>34587.000000</td>\n",
       "      <td>6.795000e+05</td>\n",
       "      <td>0.028663</td>\n",
       "      <td>-12390.000000</td>\n",
       "      <td>-285.000000</td>\n",
       "      <td>...</td>\n",
       "      <td>0.000000</td>\n",
       "      <td>0.000000</td>\n",
       "      <td>0.000000</td>\n",
       "      <td>0.000000</td>\n",
       "      <td>0.000000</td>\n",
       "      <td>0.000000</td>\n",
       "      <td>0.000000</td>\n",
       "      <td>0.000000</td>\n",
       "      <td>0.000000</td>\n",
       "      <td>3.000000</td>\n",
       "    </tr>\n",
       "    <tr>\n",
       "      <th>max</th>\n",
       "      <td>144993.000000</td>\n",
       "      <td>1.000000</td>\n",
       "      <td>11.000000</td>\n",
       "      <td>1.170000e+08</td>\n",
       "      <td>4.050000e+06</td>\n",
       "      <td>258025.500000</td>\n",
       "      <td>4.050000e+06</td>\n",
       "      <td>0.072508</td>\n",
       "      <td>-7680.000000</td>\n",
       "      <td>365243.000000</td>\n",
       "      <td>...</td>\n",
       "      <td>1.000000</td>\n",
       "      <td>1.000000</td>\n",
       "      <td>1.000000</td>\n",
       "      <td>1.000000</td>\n",
       "      <td>3.000000</td>\n",
       "      <td>6.000000</td>\n",
       "      <td>6.000000</td>\n",
       "      <td>24.000000</td>\n",
       "      <td>8.000000</td>\n",
       "      <td>25.000000</td>\n",
       "    </tr>\n",
       "  </tbody>\n",
       "</table>\n",
       "<p>8 rows × 106 columns</p>\n",
       "</div>"
      ],
      "text/plain": [
       "          SK_ID_CURR        TARGET  CNT_CHILDREN  AMT_INCOME_TOTAL  \\\n",
       "count   38848.000000  38848.000000  38848.000000      3.884800e+04   \n",
       "mean   122574.573389      0.080545      0.418709      1.711049e+05   \n",
       "std     12986.961189      0.272138      0.725396      6.008824e+05   \n",
       "min    100002.000000      0.000000      0.000000      2.565000e+04   \n",
       "25%    111301.750000      0.000000      0.000000      1.125000e+05   \n",
       "50%    122655.500000      0.000000      0.000000      1.440000e+05   \n",
       "75%    133844.250000      0.000000      1.000000      2.025000e+05   \n",
       "max    144993.000000      1.000000     11.000000      1.170000e+08   \n",
       "\n",
       "         AMT_CREDIT    AMT_ANNUITY  AMT_GOODS_PRICE  \\\n",
       "count  3.884800e+04   38848.000000     3.881900e+04   \n",
       "mean   5.990255e+05   27110.769061     5.383075e+05   \n",
       "std    4.015122e+05   14615.740691     3.689570e+05   \n",
       "min    4.500000e+04    2052.000000     4.500000e+04   \n",
       "25%    2.700000e+05   16456.500000     2.385000e+05   \n",
       "50%    5.146898e+05   24939.000000     4.500000e+05   \n",
       "75%    8.086500e+05   34587.000000     6.795000e+05   \n",
       "max    4.050000e+06  258025.500000     4.050000e+06   \n",
       "\n",
       "       REGION_POPULATION_RELATIVE    DAYS_BIRTH  DAYS_EMPLOYED  \\\n",
       "count                38848.000000  38848.000000   38848.000000   \n",
       "mean                     0.020767 -16032.740476   63977.648991   \n",
       "std                      0.013764   4357.226298  141429.955979   \n",
       "min                      0.000533 -25182.000000  -17531.000000   \n",
       "25%                      0.010006 -19666.000000   -2783.000000   \n",
       "50%                      0.018850 -15754.500000   -1218.000000   \n",
       "75%                      0.028663 -12390.000000    -285.000000   \n",
       "max                      0.072508  -7680.000000  365243.000000   \n",
       "\n",
       "                  ...              FLAG_DOCUMENT_18  FLAG_DOCUMENT_19  \\\n",
       "count             ...                  38847.000000      38847.000000   \n",
       "mean              ...                      0.008418          0.000669   \n",
       "std               ...                      0.091362          0.025862   \n",
       "min               ...                      0.000000          0.000000   \n",
       "25%               ...                      0.000000          0.000000   \n",
       "50%               ...                      0.000000          0.000000   \n",
       "75%               ...                      0.000000          0.000000   \n",
       "max               ...                      1.000000          1.000000   \n",
       "\n",
       "       FLAG_DOCUMENT_20  FLAG_DOCUMENT_21  AMT_REQ_CREDIT_BUREAU_HOUR  \\\n",
       "count      38847.000000      38847.000000                33619.000000   \n",
       "mean           0.000566          0.000386                    0.007377   \n",
       "std            0.023791          0.019647                    0.090308   \n",
       "min            0.000000          0.000000                    0.000000   \n",
       "25%            0.000000          0.000000                    0.000000   \n",
       "50%            0.000000          0.000000                    0.000000   \n",
       "75%            0.000000          0.000000                    0.000000   \n",
       "max            1.000000          1.000000                    3.000000   \n",
       "\n",
       "       AMT_REQ_CREDIT_BUREAU_DAY  AMT_REQ_CREDIT_BUREAU_WEEK  \\\n",
       "count               33619.000000                33619.000000   \n",
       "mean                    0.007763                    0.033285   \n",
       "std                     0.112433                    0.197383   \n",
       "min                     0.000000                    0.000000   \n",
       "25%                     0.000000                    0.000000   \n",
       "50%                     0.000000                    0.000000   \n",
       "75%                     0.000000                    0.000000   \n",
       "max                     6.000000                    6.000000   \n",
       "\n",
       "       AMT_REQ_CREDIT_BUREAU_MON  AMT_REQ_CREDIT_BUREAU_QRT  \\\n",
       "count               33619.000000               33619.000000   \n",
       "mean                    0.269015                   0.260805   \n",
       "std                     0.926456                   0.606724   \n",
       "min                     0.000000                   0.000000   \n",
       "25%                     0.000000                   0.000000   \n",
       "50%                     0.000000                   0.000000   \n",
       "75%                     0.000000                   0.000000   \n",
       "max                    24.000000                   8.000000   \n",
       "\n",
       "       AMT_REQ_CREDIT_BUREAU_YEAR  \n",
       "count                33619.000000  \n",
       "mean                     1.886047  \n",
       "std                      1.864055  \n",
       "min                      0.000000  \n",
       "25%                      0.000000  \n",
       "50%                      1.000000  \n",
       "75%                      3.000000  \n",
       "max                     25.000000  \n",
       "\n",
       "[8 rows x 106 columns]"
      ]
     },
     "execution_count": 5,
     "metadata": {},
     "output_type": "execute_result"
    }
   ],
   "source": [
    "train_data.describe()"
   ]
  },
  {
   "cell_type": "markdown",
   "metadata": {},
   "source": [
    "- **Data cleaning & Missing values**: There are quite a lot of missing values in most columns. We can see the number of missing values of each column as below. For simplicity, I will drop all the missing values and explore the interesting relationship between different variables. After dropping all the missing values, the dataset only has 1059 observations left."
   ]
  },
  {
   "cell_type": "code",
   "execution_count": 6,
   "metadata": {},
   "outputs": [
    {
     "data": {
      "text/plain": [
       "SK_ID_CURR                        0\n",
       "TARGET                            0\n",
       "NAME_CONTRACT_TYPE                0\n",
       "CODE_GENDER                       0\n",
       "FLAG_OWN_CAR                      0\n",
       "FLAG_OWN_REALTY                   0\n",
       "CNT_CHILDREN                      0\n",
       "AMT_INCOME_TOTAL                  0\n",
       "AMT_CREDIT                        0\n",
       "AMT_ANNUITY                       0\n",
       "AMT_GOODS_PRICE                  29\n",
       "NAME_TYPE_SUITE                 153\n",
       "NAME_INCOME_TYPE                  0\n",
       "NAME_EDUCATION_TYPE               0\n",
       "NAME_FAMILY_STATUS                0\n",
       "NAME_HOUSING_TYPE                 0\n",
       "REGION_POPULATION_RELATIVE        0\n",
       "DAYS_BIRTH                        0\n",
       "DAYS_EMPLOYED                     0\n",
       "DAYS_REGISTRATION                 0\n",
       "DAYS_ID_PUBLISH                   0\n",
       "OWN_CAR_AGE                   25616\n",
       "FLAG_MOBIL                        0\n",
       "FLAG_EMP_PHONE                    1\n",
       "FLAG_WORK_PHONE                   1\n",
       "FLAG_CONT_MOBILE                  1\n",
       "FLAG_PHONE                        1\n",
       "FLAG_EMAIL                        1\n",
       "OCCUPATION_TYPE               12221\n",
       "CNT_FAM_MEMBERS                   1\n",
       "                              ...  \n",
       "DEF_30_CNT_SOCIAL_CIRCLE        130\n",
       "OBS_60_CNT_SOCIAL_CIRCLE        130\n",
       "DEF_60_CNT_SOCIAL_CIRCLE        130\n",
       "DAYS_LAST_PHONE_CHANGE            2\n",
       "FLAG_DOCUMENT_2                   1\n",
       "FLAG_DOCUMENT_3                   1\n",
       "FLAG_DOCUMENT_4                   1\n",
       "FLAG_DOCUMENT_5                   1\n",
       "FLAG_DOCUMENT_6                   1\n",
       "FLAG_DOCUMENT_7                   1\n",
       "FLAG_DOCUMENT_8                   1\n",
       "FLAG_DOCUMENT_9                   1\n",
       "FLAG_DOCUMENT_10                  1\n",
       "FLAG_DOCUMENT_11                  1\n",
       "FLAG_DOCUMENT_12                  1\n",
       "FLAG_DOCUMENT_13                  1\n",
       "FLAG_DOCUMENT_14                  1\n",
       "FLAG_DOCUMENT_15                  1\n",
       "FLAG_DOCUMENT_16                  1\n",
       "FLAG_DOCUMENT_17                  1\n",
       "FLAG_DOCUMENT_18                  1\n",
       "FLAG_DOCUMENT_19                  1\n",
       "FLAG_DOCUMENT_20                  1\n",
       "FLAG_DOCUMENT_21                  1\n",
       "AMT_REQ_CREDIT_BUREAU_HOUR     5229\n",
       "AMT_REQ_CREDIT_BUREAU_DAY      5229\n",
       "AMT_REQ_CREDIT_BUREAU_WEEK     5229\n",
       "AMT_REQ_CREDIT_BUREAU_MON      5229\n",
       "AMT_REQ_CREDIT_BUREAU_QRT      5229\n",
       "AMT_REQ_CREDIT_BUREAU_YEAR     5229\n",
       "Length: 122, dtype: int64"
      ]
     },
     "execution_count": 6,
     "metadata": {},
     "output_type": "execute_result"
    }
   ],
   "source": [
    "train_data.isnull().sum()"
   ]
  },
  {
   "cell_type": "code",
   "execution_count": 7,
   "metadata": {},
   "outputs": [
    {
     "data": {
      "text/plain": [
       "(1059, 122)"
      ]
     },
     "execution_count": 7,
     "metadata": {},
     "output_type": "execute_result"
    }
   ],
   "source": [
    "#drop missing values\n",
    "train_data_dropna = train_data.dropna()\n",
    "train_data_dropna.shape"
   ]
  },
  {
   "cell_type": "markdown",
   "metadata": {},
   "source": [
    "- **Takeaways from exploring data**: I didn't see any relationship between variables that are very counter-intuitive. Take the plots below as examples. \n",
    "1. *TARGET vs AMT_CREDIT*: This plot illustrates the relationship between *TARGET*(0=all other cases, 1= payment difficuties) and *AMT_CREDIT* (loan applicants' credit amount). As credit amounts represent the financial heath of applicants, the more credit amount one has, the less likely the applicant will default their loan."
   ]
  },
  {
   "cell_type": "code",
   "execution_count": 9,
   "metadata": {},
   "outputs": [
    {
     "data": {
      "image/png": "[encoded data removed]",
      "text/plain": [
       "<matplotlib.figure.Figure at 0x109f5bfd0>"
      ]
     },
     "metadata": {},
     "output_type": "display_data"
    }
   ],
   "source": [
    "import matplotlib.pyplot as plt\n",
    "train_data_dropna.boxplot(column = \"AMT_CREDIT\", by = \"TARGET\", fontsize = \"large\")\n",
    "plt.show()"
   ]
  },
  {
   "cell_type": "markdown",
   "metadata": {},
   "source": [
    "- *TARGET vs AMT_INCOME_TOTAL*: This plot illustrates the relationship between *TARGET*(0=all other cases, 1= payment difficuties) and *AMT_INCOME_TOTAL* (loan applicants' annual income). It's intutive that applicants with higher incomes are less likely to default their debts."
   ]
  },
  {
   "cell_type": "code",
   "execution_count": 10,
   "metadata": {},
   "outputs": [
    {
     "data": {
      "image/png": "[encoded data removed]",
      "text/plain": [
       "<matplotlib.figure.Figure at 0x10f2df550>"
      ]
     },
     "metadata": {},
     "output_type": "display_data"
    }
   ],
   "source": [
    "train_data_dropna.boxplot(column = \"AMT_INCOME_TOTAL\", by = \"TARGET\", fontsize = \"large\")\n",
    "plt.show()"
   ]
  },
  {
   "cell_type": "markdown",
   "metadata": {},
   "source": [
    "- *TARGET vs AMT_REQ_CREDIT_BUREAU_YEAR*: This plot illustrates the relationship between *TARGET*(0=all other cases, 1= payment difficuties) and *AMT_REQ_CREDIT_BUREAU_YEAR* (Number of enquiries to Credit Bureau about the client one day year). This is a little bit counter-intuitive. Based on banking practices, the higher *AMT_REQ_CREDIT_BUREAU_YEAR* is, the higher chance that the applicant will default their debt because it shows that applicant has track records of applying for many loans. Based on the chart below, I don't see clear difference between *TARGET* = 0 and 1 on *AMT_REQ_CREDIT_BUREAU_YEAR*."
   ]
  },
  {
   "cell_type": "code",
   "execution_count": 14,
   "metadata": {},
   "outputs": [
    {
     "data": {
      "image/png": "[encoded data removed]",
      "text/plain": [
       "<matplotlib.figure.Figure at 0x10e47f588>"
      ]
     },
     "metadata": {},
     "output_type": "display_data"
    }
   ],
   "source": [
    "train_data_dropna.boxplot(column = \"AMT_REQ_CREDIT_BUREAU_YEAR\", by = \"TARGET\", fontsize = \"large\")\n",
    "plt.show()"
   ]
  },
  {
   "cell_type": "markdown",
   "metadata": {},
   "source": [
    "- *TARGET vs DAYS_EMPLOYED*: This plot illustrates the relationship between *TARGET*(0=all other cases, 1= payment difficuties) and *DAYS_EMPLOYED* (the length of applicants' employment history). The data suggests that the longer the employment history is, the less likely one will default their debt, which makes sense."
   ]
  },
  {
   "cell_type": "code",
   "execution_count": 15,
   "metadata": {},
   "outputs": [
    {
     "data": {
      "image/png": "[encoded data removed]",
      "text/plain": [
       "<matplotlib.figure.Figure at 0x10e576278>"
      ]
     },
     "metadata": {},
     "output_type": "display_data"
    }
   ],
   "source": [
    "train_data_dropna.boxplot(column = \"DAYS_EMPLOYED\", by = \"TARGET\", fontsize = \"large\")\n",
    "plt.show()"
   ]
  },
  {
   "cell_type": "markdown",
   "metadata": {},
   "source": [
    "- Repository Link on Github: https://github.com/WilliamWJHuang/machine-learning-course"
   ]
  }
 ],
 "metadata": {
  "kernelspec": {
   "display_name": "Python 3",
   "language": "python",
   "name": "python3"
  },
  "language_info": {
   "codemirror_mode": {
    "name": "ipython",
    "version": 3
   },
   "file_extension": ".py",
   "mimetype": "text/x-python",
   "name": "python",
   "nbconvert_exporter": "python",
   "pygments_lexer": "ipython3",
   "version": "3.6.3"
  }
 },
 "nbformat": 4,
 "nbformat_minor": 2
}
