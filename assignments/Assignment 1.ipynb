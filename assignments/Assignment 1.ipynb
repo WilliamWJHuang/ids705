{
 "cells": [
  {
   "cell_type": "markdown",
   "metadata": {},
   "source": [
    "# Assignment 1 - Probability, Linear Algebra, Programming, and Git\n",
    "\n",
    "## *William Wei-Jung Huang*\n",
    "Netid:  *wh132*"
   ]
  },
  {
   "cell_type": "markdown",
   "metadata": {},
   "source": [
    "# Probability and Statistics Theory"
   ]
  },
  {
   "cell_type": "markdown",
   "metadata": {
    "collapsed": true
   },
   "source": [
    "## 1\n",
    "Let $f(x) = \\begin{cases}\n",
    "                0           & x < 0  \\\\\n",
    "                \\alpha x^2  & 0 \\leq x \\leq 2 \\\\\n",
    "                0           & 2 < x\n",
    "            \\end{cases}$\n",
    "            \n",
    "For what value of $\\alpha$ is $f(x)$ a valid probability density function?\n",
    "\n",
    "*Note: for all assignments, write out all equations and math for all assignments using markdown and [LaTeX](https://tobi.oetiker.ch/lshort/lshort.pdf) and show all work*"
   ]
  },
  {
   "cell_type": "markdown",
   "metadata": {},
   "source": [
    "**ANSWER**\n",
    "\n"
   ]
  },
  {
   "cell_type": "markdown",
   "metadata": {},
   "source": [
    "A probability density function $f$ must satisfy:\n",
    " $\\\\1)\\> f(x)\\> >= 0 \\quad for \\>all \\> x, \\\\2)\\int_{-\\infty}^{\\infty} f(x)dx = 1$\n",
    " \n",
    " Solutions:\n",
    " $\\\\ \\int_{0}^{2} f(x)dx = 1 \\frac{\\alpha}{3} x^3 \\bigg|_0^2 = \\frac{8}{3} \\alpha = 1 \\\\\n",
    " \\alpha = \\frac{3}{8}$\n",
    " "
   ]
  },
  {
   "cell_type": "markdown",
   "metadata": {},
   "source": [
    "## 2\n",
    "What is the cumulative distribution function (CDF) that corresponds to the following probability distribution function? Please state the value of the CDF for all possible values of $x$.\n",
    "\n",
    "$f(x) = \\begin{cases}\n",
    "    \\frac{1}{3} & 0 < x < 3 \\\\\n",
    "    0           & \\text{otherwise}\n",
    "    \\end{cases}$"
   ]
  },
  {
   "cell_type": "markdown",
   "metadata": {},
   "source": [
    "**ANSWER**\n",
    "The definition of CDF is $F_{X}(x)=\\operatorname {P} (X\\leq x)$. \n",
    "Therefore, $F(x) = \\int_{0}^{x} f(x)dx = \\frac{1}{3} x \\Big|_0^x = \\frac{1}{3} x =\\begin{cases}\n",
    "    0 & x \\leq 0 \\\\\n",
    "    \\frac{1}{3}x   & 0< x \\leq 3 \\\\\n",
    "    1 & x> 3\n",
    "    \\end{cases}$\n"
   ]
  },
  {
   "cell_type": "markdown",
   "metadata": {},
   "source": [
    "## 3\n",
    "For the probability distribution function for the random variable $X$,\n",
    "\n",
    "$f(x) = \\begin{cases}\n",
    "    \\frac{1}{3} & 0 < x < 3 \\\\\n",
    "    0           & \\text{otherwise}\n",
    "    \\end{cases}$\n",
    "    \n",
    "what is the (a) expected value and (b) variance of $X$. *Show all work*."
   ]
  },
  {
   "cell_type": "markdown",
   "metadata": {},
   "source": [
    "**ANSWER**\n",
    "\n",
    "(a) Expected value:\n",
    "$\\\\E(X) = \\int_{0}^{3} x\\space f(x)dx = \\frac{1}{6}x^2 \\bigg |_0^3 = \\frac{9}{6} = \\frac{3}{2} $\n",
    "\n",
    "\n",
    "\n",
    "(b) Variance:\n",
    "$\\\\V(X) = E[X- E(X)]^2 = E(X^2) - E(X)^2 = \\int_{0}^{3} \\frac{1}{3}x^2\\space dx -(\\frac{3}{2})^2  = \\frac{1}{9} x^3 \\Big|_0^3 - \\frac{9}{4} = 3 - \\frac{9}{4} =\\frac{3}{4}$ \n",
    "\n"
   ]
  },
  {
   "cell_type": "markdown",
   "metadata": {},
   "source": [
    "## 4\n",
    "Consider the following table of data that provides the values of a discrete data vector $\\mathbf{x}$ of samples from the random variable $X$, where each entry in $\\mathbf{x}$ is given as $x_i$.\n",
    "\n",
    "*Table 1. Dataset N=5 observations*\n",
    "\n",
    "|        | $x_0$ | $x_1$ | $x_2$ | $x_3$ | $x_4$ |\n",
    "|------  |-------|-------|-------|-------|-------|\n",
    "|$\\textbf{x}$| 2     | 3     | 10    | -1    | -1    |\n",
    "\n",
    "What is the (a) mean, (b) variance, and the  of the data? \n",
    "\n",
    "*Show all work. Your answer should include the definition of mean, median, and variance in the context of discrete data.*"
   ]
  },
  {
   "cell_type": "markdown",
   "metadata": {},
   "source": [
    "**ANSWER**\n",
    "\n",
    "(a) Mean: Mean value can be calculated adding together all the values in a set and dividing the result by the number of members in the set. \n",
    " $\\\\ (x_0 + x_1 + x_2 + x_3 + x_4)/5 = 2.6$\n",
    "\n",
    "(b) Variance: \n",
    "\n",
    "Definition of variance: ${Var} (X)={\\frac {1}{n}}\\sum _{i=1}^{n}(x_{i}-\\mu)^{2}\\\\\n",
    " \\sum_{i=0}^{5} (x_i - E(X)) =16.24$\n",
    "\n",
    "(c) Median: \n",
    "The \"middle\" of a sorted list of numbers.\n"
   ]
  },
  {
   "cell_type": "code",
   "execution_count": 16,
   "metadata": {},
   "outputs": [
    {
     "name": "stdout",
     "output_type": "stream",
     "text": [
      "(a) Mean  is 2.6\n",
      "(b) Variance is 16.24\n",
      "(c) Median is 2\n"
     ]
    }
   ],
   "source": [
    "#(a)\n",
    "import numpy as np\n",
    "q4 = np.array([2,3,10,-1,-1])\n",
    "mean = round(np.mean(q4),2)\n",
    "#(b)\n",
    "var = round(np.var(q4),2)\n",
    "print(\"(a) Mean  is {}\".format(mean))\n",
    "print(\"(b) Variance is {}\".format(var))\n",
    "print(\"(c) Median is 2\")"
   ]
  },
  {
   "cell_type": "markdown",
   "metadata": {},
   "source": [
    "## 5\n",
    "Review of counting from probability theory. \n",
    "\n",
    "(a) How many different 7-place license plates are possible if the first 3 places only contain letters and the last 4 only contain numbers?\n",
    "\n",
    "(b) How many different batting orders are possible for a baseball team with 9 players?\n",
    "\n",
    "(c) How many batting orders of 5 players are possible for a team with 9 players total?\n",
    "\n",
    "(d) Let's assume this class has 26 students and we want to form project teams. How many unique teams of 3 are possible?\n",
    "\n",
    "*Hint: For each problem, determine if order matters, and if it should be calculated with or without replacement.*"
   ]
  },
  {
   "cell_type": "markdown",
   "metadata": {},
   "source": [
    "**ANSWER**\n",
    "\n",
    "(a) $26^3 \\times 10^4 = 175760000$\n",
    "\n",
    "(b) $9! = 362880$\n",
    "\n",
    "(c) $C_{5}^{9} \\times 5! = 15120$\n",
    "\n",
    "(d) $C_{3}^{26} = 2600$\n",
    "\n"
   ]
  },
  {
   "cell_type": "markdown",
   "metadata": {},
   "source": [
    "# Linear Algebra"
   ]
  },
  {
   "cell_type": "markdown",
   "metadata": {},
   "source": [
    "## 6\n",
    "**Matrix manipulations and multiplication**. Machine learning involves working with many matrices, so this exercise will provide you with the opportunity to practice those skills.\n",
    "\n",
    "Let\n",
    "$\\mathbf{A} =  \\begin{bmatrix}\n",
    "1 & 2 & 3 \\\\\n",
    "2 & 4 & 5 \\\\\n",
    "3 & 5 & 6 \n",
    "\\end{bmatrix}$, $\\mathbf{b} =  \\begin{bmatrix}\n",
    "-1  \\\\\n",
    "3  \\\\\n",
    "8  \n",
    "\\end{bmatrix}$, $\\mathbf{c} =  \\begin{bmatrix}\n",
    "4  \\\\\n",
    "-3  \\\\\n",
    "6  \n",
    "\\end{bmatrix}$, and $\\mathbf{I} =  \\begin{bmatrix}\n",
    "1 & 0 & 0 \\\\\n",
    "0 & 1 & 0 \\\\\n",
    "0 & 0 & 1 \n",
    "\\end{bmatrix}$\n",
    "\n",
    "Compute the following or indicate that it cannot be computed:\n",
    "\n",
    "1. $\\mathbf{A}\\mathbf{A}$\n",
    "2. $\\mathbf{A}\\mathbf{A}^T$\n",
    "3. $\\mathbf{A}\\mathbf{b}$\n",
    "4. $\\mathbf{A}\\mathbf{b}^T$\n",
    "5. $\\mathbf{b}\\mathbf{A}$\n",
    "6. $\\mathbf{b}^T\\mathbf{A}$\n",
    "7. $\\mathbf{b}\\mathbf{b}$\n",
    "8. $\\mathbf{b}^T\\mathbf{b}$\n",
    "9. $\\mathbf{b}\\mathbf{b}^T$\n",
    "10. $\\mathbf{b} + \\mathbf{c}^T$\n",
    "11. $\\mathbf{b}^T\\mathbf{b}^T$\n",
    "12. $\\mathbf{A}^{-1}\\mathbf{b}$\n",
    "13. $\\mathbf{A}\\circ\\mathbf{A}$\n",
    "14. $\\mathbf{b}\\circ\\mathbf{c}$\n",
    "\n",
    "*Note: The element-wise (or Hadamard) product is the product of each element in one matrix with the corresponding element in another matrix, and is represented by the symbol \"$\\circ$\".*"
   ]
  },
  {
   "cell_type": "markdown",
   "metadata": {},
   "source": [
    "**ANSWER**\n",
    "\n",
    "1. $\\mathbf{A}\\mathbf{A} =  \\begin{bmatrix}\n",
    "14 & 25 & 31 \\\\\n",
    "25 & 45 & 56 \\\\\n",
    "31 & 56 & 60 \n",
    "\\end{bmatrix}$\n",
    "\n",
    "2. $\\mathbf{A}\\mathbf{A}^T = \\begin{bmatrix}\n",
    "14 & 25 & 31 \\\\\n",
    "25 & 45 & 56 \\\\\n",
    "31 & 56 & 60 \n",
    "\\end{bmatrix}$\n",
    "\n",
    "3. $\\mathbf{A}\\mathbf{b} = \\begin{bmatrix}\n",
    "29 \\\\\n",
    "50 \\\\\n",
    "60 \n",
    "\\end{bmatrix}$\n",
    "\n",
    "4. It cannot be computed.\n",
    "\n",
    "5. It cannot be computed.\n",
    "\n",
    "6. $\\mathbf{A}\\mathbf{b}^T = \\begin{bmatrix}\n",
    "29 & 50 & 60\n",
    "\\end{bmatrix}$\n",
    "\n",
    "7. It cannot be computed.\n",
    "\n",
    "8. $\\mathbf{b}^T\\mathbf{b} = \\begin{bmatrix}\n",
    "74\n",
    "\\end{bmatrix}$\n",
    "\n",
    "9. $\\mathbf{b}\\mathbf{b}^T = \\begin{bmatrix}\n",
    "1 & -3 & -8 \\\\\n",
    "-3 & 9 & 24 \\\\\n",
    "-8 & 24 & 64 \n",
    "\\end{bmatrix}$\n",
    "\n",
    "10. $\\mathbf{b} + \\mathbf{c}^T = \\begin{bmatrix}\n",
    "3 \\\\\n",
    "0 \\\\\n",
    "14 \n",
    "\\end{bmatrix}$\n",
    "\n",
    "11. It cannot be computed.\n",
    "\n",
    "12. $\\mathbf{A}^{-1}\\mathbf{b} = \\begin{bmatrix}\n",
    "1 & -3 & 2 \\\\\n",
    "-3 & 3 & -1 \\\\\n",
    "2 & -1 & 0\n",
    "\\end{bmatrix}\n",
    "\\begin{bmatrix}\n",
    "-1 \\\\\n",
    "3 \\\\\n",
    "8\n",
    "\\end{bmatrix} = \\begin{bmatrix}\n",
    "6 \\\\\n",
    "4 \\\\\n",
    "-5 \n",
    "\\end{bmatrix}$\n",
    "13. $\\mathbf{A}\\circ\\mathbf{A} = \\begin{bmatrix}\n",
    "1 & 4 & 9 \\\\\n",
    "4 & 16 & 25 \\\\\n",
    "9 & 25 & 36 \n",
    "\\end{bmatrix}$\n",
    "14. $\\mathbf{b}\\circ\\mathbf{c} = \\begin{bmatrix}\n",
    "-4  \\\\\n",
    "-9 \\\\\n",
    "48\n",
    "\\end{bmatrix}$\n"
   ]
  },
  {
   "cell_type": "markdown",
   "metadata": {},
   "source": [
    "## 6\n",
    "**Eigenvectors and eigenvalues**. Eigenvectors and eigenvalues are useful for some machine learning algorithms, but the concepts take time to solidly grasp. For an intuitive review of these concepts, explore this [interactive website at Setosa.io](http://setosa.io/ev/eigenvectors-and-eigenvalues/). Also, the series of linear algebra videos by Grant Sanderson of 3Brown1Blue are excellent and can be viewed on youtube [here](https://www.youtube.com/playlist?list=PLZHQObOWTQDPD3MizzM2xVFitgF8hE_ab).\n",
    "\n",
    "1. Calculate the eigenvalues and corresponding eigenvectors of matrix $\\mathbf{A}$ above, from the last question.\n",
    "2. Choose one of the eigenvector/eigenvalue pairs, $\\mathbf{v}$ and $\\lambda$, and show that $\\mathbf{A} \\mathbf{v} = \\lambda \\mathbf{v}$. Also show that this relationship extends to higher orders: $\\mathbf{A} \\mathbf{A} \\mathbf{v} = \\lambda^2 \\mathbf{v}$\n",
    "3. Show that the eigenvectors are orthogonal to one another (e.g. their inner product is zero). This is true for real, symmetric matrices."
   ]
  },
  {
   "cell_type": "markdown",
   "metadata": {},
   "source": [
    "**ANSWER**\n",
    "\n"
   ]
  },
  {
   "cell_type": "code",
   "execution_count": 64,
   "metadata": {},
   "outputs": [
    {
     "name": "stdout",
     "output_type": "stream",
     "text": [
      "1. eigenvalues: [ 11.34481428  -0.51572947   0.17091519], eigenvectors: [[-0.32798528 -0.73697623  0.59100905]\n",
      " [-0.59100905 -0.32798528 -0.73697623]\n",
      " [-0.73697623  0.59100905  0.32798528]]\n",
      "2.\n",
      "Av =  [ 0.38008036  0.16915167 -0.30480078]\n",
      "Lambda v [ 0.38008036  0.16915167 -0.30480078]\n",
      "AAv = [-0.19601864 -0.0872365   0.15719475]\n",
      "Lambda Lambda v = [-0.19601864 -0.0872365   0.15719475]\n",
      "eigenvector0*eigenvector1 =  -2.22044604925e-16\n",
      "eigenvector1*eigenvector2 =  -1.05471187339e-15\n",
      "eigenvector0*eigenvector2 =  -4.4408920985e-16\n",
      "As the products of eigenvectors are extremely close to zero, I believe that eigenvectors are perpendicular to one another.\n"
     ]
    }
   ],
   "source": [
    "#1\n",
    "A = np.array([[1,2,3],[2,4,5],[3,5,6]])\n",
    "eig_value, eig_vector = np.linalg.eig(A)\n",
    "print(\"1. eigenvalues: {}, eigenvectors: {}\".format(eig_value, eig_vector))\n",
    "\n",
    "#2\n",
    "print(\"2.\")\n",
    "Av = A.dot(eig_vector[:,1])\n",
    "lambdav = eig_value[1]*eig_vector[:,1]\n",
    "print(\"Av = \", Av)\n",
    "print(\"Lambda v\", lambdav)\n",
    "AAv = A.dot(A.dot(eig_vector[:,1]))\n",
    "LambdaLambdav = eig_value[1]*eig_value[1]*eig_vector[:,1]\n",
    "print(\"AAv =\", AAv)\n",
    "print(\"Lambda Lambda v =\", LambdaLambdav)\n",
    "\n",
    "#3\n",
    "ev0 = eig_vector[:,0]\n",
    "ev1 = eig_vector[:,1]\n",
    "ev2 = eig_vector[:,2]\n",
    "print(\"eigenvector0*eigenvector1 = \",ev0.dot(ev1))\n",
    "print(\"eigenvector1*eigenvector2 = \",ev1.dot(ev2))\n",
    "print(\"eigenvector0*eigenvector2 = \",ev0.dot(ev2))\n",
    "print(\"As the products of eigenvectors are extremely close to zero, I believe that eigenvectors are perpendicular to one another.\")"
   ]
  },
  {
   "cell_type": "markdown",
   "metadata": {},
   "source": [
    "# Numerical Programming"
   ]
  },
  {
   "cell_type": "markdown",
   "metadata": {},
   "source": [
    "## 7\n",
    "Speed comparison between vectorized and non-vectorized code. Begin by creating an array of 10 million random numbers using the numpy random.randn module. Compute the sum of the squares first in a for loop, then using Numpy's `dot` module. Time how long it takes to compute each and report the results and report the output. How many times faster is the vectorized code than the for loop approach?\n",
    "\n",
    "*Note: all code should be well commented, properly formatted, and your answers should be output using the `print()` function as follows (where the # represents your answers, to a reasonable precision):\n",
    "\n",
    "`Time [sec] (non-vectorized): ######`\n",
    "\n",
    "`Time [sec] (vectorized):     ######`\n",
    "\n",
    "`The vectorized code is ##### times faster than the vectorized code`"
   ]
  },
  {
   "cell_type": "markdown",
   "metadata": {},
   "source": [
    "**ANSWER**"
   ]
  },
  {
   "cell_type": "code",
   "execution_count": 69,
   "metadata": {},
   "outputs": [
    {
     "name": "stdout",
     "output_type": "stream",
     "text": [
      "Time 47.68984603881836 (non-vectorized)\n",
      "Time 0.04785895347595215 (vectorized)\n",
      "The vectorized code is 996.47 times faster than the vectorized code.\n"
     ]
    }
   ],
   "source": [
    "import numpy as np\n",
    "import time\n",
    "\n",
    "# Generate the random samples\n",
    "sample = np.random.randn(10000000,1)\n",
    "\n",
    "# Compute the sum of squares the non-vectorized way (using a for loop)\n",
    "start1 = time.time()\n",
    "sample_avg = sum(sample)/sample.shape[0]\n",
    "tss_nonvec = 0\n",
    "for i in sample:\n",
    "    tss_nonvec += i**2\n",
    "end1 = time.time()\n",
    "execution_time1 = end1 - start1\n",
    "\n",
    "# Compute the sum of squares the vectorized way (using numpy)\n",
    "start2 = time.time()\n",
    "tss_vec = 0\n",
    "tss_vec = np.sum(np.square(sample))\n",
    "end2 = time.time()\n",
    "execution_time2 = end2 - start2\n",
    "\n",
    "# Print the results\n",
    "print(\"Time {} (non-vectorized)\".format(execution_time1))\n",
    "print(\"Time {} (vectorized)\".format(execution_time2))\n",
    "print(\"The vectorized code is {} times faster than the vectorized code.\".format(round(execution_time1/execution_time2, 2)))"
   ]
  },
  {
   "cell_type": "markdown",
   "metadata": {},
   "source": [
    "\n",
    "## 8\n",
    "One popular Agile development framework is Scrum (a paradigm recommended for data science projects). It emphasizes the continual evolution of code for projects, becoming progressively better, but starting with a quickly developed minimum viable product. This often means that code written early on is not optimized, and that's a good thing - it's best to get it to work first before optimizing. Imagine that you wrote the following code during a sprint towards getting an end-to-end system working. Vectorize the following code and show the difference in speed between the current implementation and a vectorized version.\n",
    "\n",
    "The function below computes the function $f(x,y) = x^2 - 2 y^2$ and determines whether this quantity is above or below a given threshold, `thresh=0`. This is done for $x,y \\in \\{-4,4\\}$, over a 2,000-by-2,000 grid covering that domain.\n",
    "\n",
    "(a) Vectorize this code and demonstrate (as in the last exercise) the speed increase through vectorization and (b) plot the resulting data - both the function $f(x,y)$ and the thresholded output - using [`imshow`](https://matplotlib.org/api/_as_gen/matplotlib.pyplot.imshow.html?highlight=matplotlib%20pyplot%20imshow#matplotlib.pyplot.imshow) from `matplotlib`.\n",
    "\n",
    "*Hint: look at the `numpy` [`meshgrid`](https://docs.scipy.org/doc/numpy-1.13.0/reference/generated/numpy.meshgrid.html) documentation*"
   ]
  },
  {
   "cell_type": "code",
   "execution_count": 75,
   "metadata": {},
   "outputs": [
    {
     "name": "stdout",
     "output_type": "stream",
     "text": [
      "Time [sec] (non-vectorized):  12.896663000000046\n",
      "Time [sec] (vectorized):  0.11894000000000915\n",
      "The vectorized code is 108.42998991087148 times faster than the non-vectorized code\n"
     ]
    },
    {
     "data": {
      "image/png": "iVBORw0KGgoAAAANSUhEUgAAAYoAAAC7CAYAAAB7L9msAAAABHNCSVQICAgIfAhkiAAAAAlwSFlz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\nYII=\n",
      "text/plain": [
       "<matplotlib.figure.Figure at 0x10e479470>"
      ]
     },
     "metadata": {},
     "output_type": "display_data"
    }
   ],
   "source": [
    "%matplotlib inline\n",
    "import numpy as np\n",
    "import time\n",
    "import matplotlib.pyplot as plt\n",
    "\n",
    "# Initialize variables for this exerise\n",
    "thresh = 0\n",
    "x = np.linspace(-4, 4, 2000)\n",
    "y = np.linspace(-4, 4, 2000)\n",
    "\n",
    "xx, yy = np.meshgrid(x, y)\n",
    "\n",
    "# Nonvectorized implementation\n",
    "t0 = time.clock()\n",
    "\n",
    "f_thresh = np.zeros((2000, 2000))\n",
    "for i in range(0, 2000):\n",
    "    for j in range(0, 2000):\n",
    "        if (xx[i][j]**2 - 2*yy[i][j]**2) > thresh:\n",
    "            f_thresh[i][j] = 1\n",
    "        else:\n",
    "            f_thresh[i][j] = -1\n",
    "t1 = time.clock()\n",
    "\n",
    "# Vectorized implementation\n",
    "t2 = time.clock()\n",
    "f = xx*xx - 2*yy*yy\n",
    "f_thresh_2 = np.where(f > thresh, 1, -1)\n",
    "t3 = time.clock()\n",
    "\n",
    "# Print the time for each and the speed increase\n",
    "non_vec_time = t1 - t0\n",
    "vec_time = t3 - t2\n",
    "print(\"Time [sec] (non-vectorized): \", non_vec_time)\n",
    "print(\"Time [sec] (vectorized): \", vec_time)\n",
    "print(\"The vectorized code is {} times faster than the non-vectorized code\".format(non_vec_time / vec_time))\n",
    "\n",
    "# Plot the result\n",
    "plt.subplot(121)\n",
    "plt.imshow(f)\n",
    "plt.subplot(122)\n",
    "plt.imshow(f_thresh)\n",
    "plt.show()"
   ]
  },
  {
   "cell_type": "markdown",
   "metadata": {},
   "source": [
    "## 9\n",
    "This exercise will walk through some basic numerical programming exercises.\n",
    "1. Synthesize $n=10^4$ normally distributed data points with mean $\\mu=2$ and a standard deviation of $\\sigma=1$. Call these observations from a random variable $X$, and call the vector of observations that you generate, $\\textbf{x}$.\n",
    "2. Calculate the mean and standard deviation of $\\textbf{x}$ to validate (1) and provide the result to a precision of four significant figures.\n",
    "3. Plot a histogram of the data in $\\textbf{x}$ with 30 bins\n",
    "4. What is the 90th percentile of $\\textbf{x}$? The 90th percentile is the value below which 90% of observations can be found.\n",
    "5. What is the 99th percentile of $\\textbf{x}$?\n",
    "6. Now synthesize $n=10^4$ normally distributed data points with mean $\\mu=0$ and a standard deviation of $\\sigma=3$. Call these observations from a random variable $Y$, and call the vector of observations that you generate, $\\textbf{y}$.\n",
    "7. Plot the histogram of the data in $\\textbf{y}$ on a (new) plot with the histogram of $\\textbf{x}$, so that both histograms can be seen and compared.\n",
    "8. Using the observations from $\\textbf{x}$ and $\\textbf{y}$, estimate $E[XY]$"
   ]
  },
  {
   "cell_type": "markdown",
   "metadata": {},
   "source": [
    "**ANSWER**"
   ]
  },
  {
   "cell_type": "code",
   "execution_count": 58,
   "metadata": {},
   "outputs": [
    {
     "name": "stdout",
     "output_type": "stream",
     "text": [
      "mean = 2.0, standard deviation = 1.0\n"
     ]
    },
    {
     "data": {
      "image/png": "iVBORw0KGgoAAAANSUhEUgAAAYAAAAD8CAYAAAB+UHOxAAAABHNCSVQICAgIfAhkiAAAAAlwSFlz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\nJb39fQAAAABJRU5ErkJggg==\n",
      "text/plain": [
       "<matplotlib.figure.Figure at 0x10a96a630>"
      ]
     },
     "metadata": {},
     "output_type": "display_data"
    },
    {
     "name": "stdout",
     "output_type": "stream",
     "text": [
      "The 90th percentile of x is 3.276776644612959\n",
      "The 99th percentile of x is 4.2645798759804165\n"
     ]
    },
    {
     "data": {
      "image/png": "iVBORw0KGgoAAAANSUhEUgAAAYAAAAD8CAYAAAB+UHOxAAAABHNCSVQICAgIfAhkiAAAAAlwSFlz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\nGQCSVCkDQJIqZQBIUqUMAEmq1P8DNgaZMjw9pJgAAAAASUVORK5CYII=\n",
      "text/plain": [
       "<matplotlib.figure.Figure at 0x10e4562e8>"
      ]
     },
     "metadata": {},
     "output_type": "display_data"
    },
    {
     "name": "stdout",
     "output_type": "stream",
     "text": [
      "E(XY) = 0.027125458085420138\n"
     ]
    }
   ],
   "source": [
    "import numpy as np\n",
    "import matplotlib.pyplot as plt\n",
    "\n",
    "# 1\n",
    "mu, sigma = 2, 1\n",
    "x = np.random.normal(mu, sigma, 10000)\n",
    "\n",
    "# 2\n",
    "q9_mean = round(np.mean(x))\n",
    "q9_sd = round(np.std(x))\n",
    "print(\"mean = {}, standard deviation = {}\".format(q9_mean, q9_sd))\n",
    "\n",
    "# 3\n",
    "plt.hist(x, bins=30)\n",
    "plt.show()\n",
    "\n",
    "# 4\n",
    "print(\"The 90th percentile of x is {}\".format(np.percentile(x, 90)))\n",
    "\n",
    "# 5\n",
    "print(\"The 99th percentile of x is {}\".format(np.percentile(x, 99)))\n",
    "\n",
    "# 6\n",
    "mu, sigma = 0, 3\n",
    "y = np.random.normal(mu, sigma, 10000)\n",
    "\n",
    "# 7\n",
    "plt.hist(x, 30, alpha=0.5, label='x')\n",
    "plt.hist(y, 30, alpha=0.5, label='y')\n",
    "plt.legend(loc='upper right')\n",
    "plt.show()\n",
    "\n",
    "# 8\n",
    "print(\"E(XY) = {}\".format(np.mean(x)*(np.mean(y))))"
   ]
  },
  {
   "cell_type": "markdown",
   "metadata": {},
   "source": [
    "## 10\n",
    "Estimate the integral of the function $f(x)$ on the interval $0\\leq x < 2.5$ assuming we only know the following points from $f$:\n",
    "\n",
    "*Table 1. Dataset containing n=5 observations*\n",
    "\n",
    "| $x_i$ | 0.0 | 0.5 | 1.0 | 1.5 | 2.0 |\n",
    "|-|-|-|-|-|-|\n",
    "| $y_i$ | 6 | 7 | 8 | 4 | 1 |\n"
   ]
  },
  {
   "cell_type": "markdown",
   "metadata": {},
   "source": [
    "**ANSWER**\n",
    "\n"
   ]
  },
  {
   "cell_type": "code",
   "execution_count": 73,
   "metadata": {},
   "outputs": [
    {
     "name": "stdout",
     "output_type": "stream",
     "text": [
      "10.60119047619046\n",
      " the integral of the function f(x) on the interval 0 <= x < 2.5:  10.60119047619046\n"
     ]
    },
    {
     "data": {
      "image/png": "iVBORw0KGgoAAAANSUhEUgAAAW4AAAD8CAYAAABXe05zAAAABHNCSVQICAgIfAhkiAAAAAlwSFlz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\n",
      "text/plain": [
       "<matplotlib.figure.Figure at 0x10e96e9b0>"
      ]
     },
     "metadata": {},
     "output_type": "display_data"
    }
   ],
   "source": [
    "%matplotlib inline\n",
    "import numpy as np\n",
    "import matplotlib.pyplot as plt\n",
    "\n",
    "xi = np.array([0.0, 0.5, 1.0, 1.5, 2.0])\n",
    "yi = np.array([6, 7, 8, 4, 1])\n",
    "plt.scatter(xi, yi)\n",
    "\n",
    "#Fit a polynomial model\n",
    "Coff = np.polyfit(xi, yi, 2) #y~-3.7x**2 + 4.83x + 5.94  \n",
    "integral = 0.5 * np.sum(yi)\n",
    "\n",
    "#calculate integral\n",
    "from scipy.integrate import quad\n",
    "def integrand(x):\n",
    "    return Coff[0]*x**2 + Coff[1]*x + Coff[2]\n",
    "ans, err = quad(integrand, 0, 2.5)\n",
    "\n",
    "print(\" the integral of the function f(x) on the interval 0 <= x < 2.5: \", ans)"
   ]
  },
  {
   "cell_type": "markdown",
   "metadata": {
    "collapsed": true
   },
   "source": [
    "# Version Control via Git"
   ]
  },
  {
   "cell_type": "markdown",
   "metadata": {},
   "source": [
    "## 11\n",
    "Complete the [Atlassian Git tutorial](https://www.atlassian.com/git/tutorials/what-is-version-control), specifically the following sections. Try each concept that's presented. For this tutorial, instead of using BitBucket, use Github. Create a github account here if you don't already have one: https://github.com/\n",
    "1. [What is version control](https://www.atlassian.com/git/tutorials/what-is-version-control)\n",
    "2. [What is Git](https://www.atlassian.com/git/tutorials/what-is-git)\n",
    "3. [Install Git](https://www.atlassian.com/git/tutorials/install-git)\n",
    "4. [Setting up a repository](https://www.atlassian.com/git/tutorials/install-git)\n",
    "5. [Saving changes](https://www.atlassian.com/git/tutorials/saving-changes)\n",
    "6. [Inspecting a repository](https://www.atlassian.com/git/tutorials/inspecting-a-repository)\n",
    "7. [Undoing changes](https://www.atlassian.com/git/tutorials/undoing-changes)\n",
    "8. [Rewriting history](https://www.atlassian.com/git/tutorials/rewriting-history)\n",
    "9. [Syncing](https://www.atlassian.com/git/tutorials/syncing)\n",
    "10. [Making a pull request](https://www.atlassian.com/git/tutorials/making-a-pull-request)\n",
    "11. [Using branches](https://www.atlassian.com/git/tutorials/using-branches)\n",
    "12. [Comparing workflows](https://www.atlassian.com/git/tutorials/comparing-workflows)\n",
    "\n",
    "For your answer, affirm that you either completed the tutorial or have previous experience with all of the concepts above. Do this by typing your name below and selecting the situation that applies from the two options in brackets."
   ]
  },
  {
   "cell_type": "markdown",
   "metadata": {},
   "source": [
    "**ANSWER**\n",
    "\n",
    "*I, **William Huang**, affirm that I have completed the above tutorial.*"
   ]
  },
  {
   "cell_type": "markdown",
   "metadata": {},
   "source": [
    "## 12\n",
    "Using Github to create a static HTML website:\n",
    "1. Create a branch in your `machine-learning-course` repo called \"gh-pages\" and checkout that branch (this will provide an example of how to create a simple static website using [Github Pages](https://pages.github.com/))\n",
    "2. Create a file called \"index.html\" with the contents \"Hello World\" and add, commit, and push it to that branch.\n",
    "3. Submit the following: (a) a link to your github repository and (b) a link to your new \"Hello World\" website. The latter should be at the address https://[USERNAME].github.io/ECE590-assignment0 (where [USERNAME] is your github username)."
   ]
  },
  {
   "cell_type": "markdown",
   "metadata": {},
   "source": [
    "**ANSWER**\n",
    "(a) https://github.com/WilliamWJHuang/machine-learning-course/tree/gh-pages\n",
    "(b) https://williamwjhuang.github.io/machine-learning-course/"
   ]
  },
  {
   "cell_type": "markdown",
   "metadata": {
    "collapsed": true
   },
   "source": [
    "# Exploratory Data Analysis\n",
    "## 13\n",
    "Here you'll bring together some of the individual skills that you demonstrated above and create a Jupyter notebook based blog post on data analysis.\n",
    "\n",
    "1. Find a dataset that interests you and relates to a question or problem that you find intriguing\n",
    "2. Using a Jupyter notebook, describe the dataset, the source of the data, and the reason the dataset was of interest.\n",
    "3. Check the data and see if they need to be cleaned: are there missing values? Are there clearly erroneous values? Do two tables need to be merged together? Clean the data so it can be visualized.\n",
    "3. Plot the data, demonstrating interesting features that you discover. Are there any relationships between variables that were surprising or patterns that emerged? Please exercise creativity and curiosity in your plots.\n",
    "4. What insights are you able to take away from exploring the data? Is there a reason why analyzing the dataset you chose is particularly interesting or important? Summarize this as if your target audience was the readership of a major news organization - boil down your findings in a way that is accessible, but still accurate.\n",
    "5. Create a public repository on your github account titled \"machine-learning-course\". In it, create a readme file that contains the heading \"ECE590: Introductory Machine Learning for Data Science\". Add, commit, and push that Jupyter notebook to the master branch. Provide the link to the that post here."
   ]
  },
  {
   "cell_type": "markdown",
   "metadata": {},
   "source": [
    "**ANSWER**\n",
    "\n"
   ]
  }
 ],
 "metadata": {
  "kernelspec": {
   "display_name": "Python 3",
   "language": "python",
   "name": "python3"
  },
  "language_info": {
   "codemirror_mode": {
    "name": "ipython",
    "version": 3
   },
   "file_extension": ".py",
   "mimetype": "text/x-python",
   "name": "python",
   "nbconvert_exporter": "python",
   "pygments_lexer": "ipython3",
<<<<<<< HEAD
   "version": "3.6.3"
=======
   "version": "3.6.5"
>>>>>>> upstream/master
  }
 },
 "nbformat": 4,
 "nbformat_minor": 2
}
