{
 "cells": [
  {
   "cell_type": "markdown",
   "metadata": {
    "collapsed": true
   },
   "source": [
    "# Exploratory Data Analysis\n",
    "## 13\n",
    "Here you'll bring together some of the individual skills that you demonstrated above and create a Jupyter notebook based blog post on data analysis.\n",
    "\n",
    "1. Find a dataset that interests you and relates to a question or problem that you find intriguing\n",
    "2. Using a Jupyter notebook, describe the dataset, the source of the data, and the reason the dataset was of interest.\n",
    "3. Check the data and see if they need to be cleaned: are there missing values? Are there clearly erroneous values? Do two tables need to be merged together? Clean the data so it can be visualized.\n",
    "3. Plot the data, demonstrating interesting features that you discover. Are there any relationships between variables that were surprising or patterns that emerged? Please exercise creativity and curiosity in your plots.\n",
    "4. What insights are you able to take away from exploring the data? Is there a reason why analyzing the dataset you chose is particularly interesting or important? Summarize this as if your target audience was the readership of a major news organization - boil down your findings in a way that is accessible, but still accurate.\n",
    "5. Create a public repository on your github account titled \"machine-learning-course\". In it, create a readme file that contains the heading \"ECE590: Introductory Machine Learning for Data Science\". Add, commit, and push that Jupyter notebook to the master branch. Provide the link to the that post here."
   ]
  },
  {
   "cell_type": "markdown",
   "metadata": {},
   "source": [
    "### PROBLEM: How to predict the delinquency rate through information on loan applications\n"
   ]
  },
  {
   "cell_type": "markdown",
   "metadata": {
    "collapsed": true
   },
   "source": [
    "\n",
    "- **Problem**: How to predict the delinquency rate through information on loan applications\n",
    "- **The reason the dataset was of interest**: For the IDS702 course last semester, I constructed a logsitic regression model to interpret how the information on loan applications affect the delinquency rates of loan applicants with this dataset. For this semester, I am particularly interested in applying non-parametric methods on the same dataset and see how the performance differs from the parametric method.\n",
    "- **The source of the dataset**: The dataset is available on Kaggle and provided by Home Credit Group. (https://www.kaggle.com/c/home-credit-default-risk/data)\n",
    "- **Description of the dataset**: The dataset contains 122 variables and 38848 observations. \"TARGET\" is the response variable and the other 121 variables are predictors. The predictor variables describe different information on loan applications, for example, *CNT_CHILDREN* describes how many children does the loan applicant have."
   ]
  },
  {
   "cell_type": "code",
   "execution_count": 1,
   "metadata": {
    "collapsed": true
   },
   "outputs": [],
   "source": [
    "import pandas as pd\n",
    "train_data = pd.read_csv(\"application_train.csv\")"
   ]
  },
  {
   "cell_type": "code",
   "execution_count": 2,
   "metadata": {},
   "outputs": [
    {
     "data": {
      "text/plain": [
       "(38848, 122)"
      ]
     },
     "execution_count": 2,
     "metadata": {},
     "output_type": "execute_result"
    }
   ],
   "source": [
    "train_data.shape"
   ]
  },
  {
   "cell_type": "code",
   "execution_count": 3,
   "metadata": {},
   "outputs": [
    {
     "data": {
      "text/html": [
       "<div>\n",
       "<style scoped>\n",
       "    .dataframe tbody tr th:only-of-type {\n",
       "        vertical-align: middle;\n",
       "    }\n",
       "\n",
       "    .dataframe tbody tr th {\n",
       "        vertical-align: top;\n",
       "    }\n",
       "\n",
       "    .dataframe thead th {\n",
       "        text-align: right;\n",
       "    }\n",
       "</style>\n",
       "<table border=\"1\" class=\"dataframe\">\n",
       "  <thead>\n",
       "    <tr style=\"text-align: right;\">\n",
       "      <th></th>\n",
       "      <th>SK_ID_CURR</th>\n",
       "      <th>TARGET</th>\n",
       "      <th>CNT_CHILDREN</th>\n",
       "      <th>AMT_INCOME_TOTAL</th>\n",
       "      <th>AMT_CREDIT</th>\n",
       "      <th>AMT_ANNUITY</th>\n",
       "      <th>AMT_GOODS_PRICE</th>\n",
       "      <th>REGION_POPULATION_RELATIVE</th>\n",
       "      <th>DAYS_BIRTH</th>\n",
       "      <th>DAYS_EMPLOYED</th>\n",
       "      <th>...</th>\n",
       "      <th>FLAG_DOCUMENT_18</th>\n",
       "      <th>FLAG_DOCUMENT_19</th>\n",
       "      <th>FLAG_DOCUMENT_20</th>\n",
       "      <th>FLAG_DOCUMENT_21</th>\n",
       "      <th>AMT_REQ_CREDIT_BUREAU_HOUR</th>\n",
       "      <th>AMT_REQ_CREDIT_BUREAU_DAY</th>\n",
       "      <th>AMT_REQ_CREDIT_BUREAU_WEEK</th>\n",
       "      <th>AMT_REQ_CREDIT_BUREAU_MON</th>\n",
       "      <th>AMT_REQ_CREDIT_BUREAU_QRT</th>\n",
       "      <th>AMT_REQ_CREDIT_BUREAU_YEAR</th>\n",
       "    </tr>\n",
       "  </thead>\n",
       "  <tbody>\n",
       "    <tr>\n",
       "      <th>count</th>\n",
       "      <td>38848.000000</td>\n",
       "      <td>38848.000000</td>\n",
       "      <td>38848.000000</td>\n",
       "      <td>3.884800e+04</td>\n",
       "      <td>3.884800e+04</td>\n",
       "      <td>38848.000000</td>\n",
       "      <td>3.881900e+04</td>\n",
       "      <td>38848.000000</td>\n",
       "      <td>38848.000000</td>\n",
       "      <td>38848.000000</td>\n",
       "      <td>...</td>\n",
       "      <td>38847.000000</td>\n",
       "      <td>38847.000000</td>\n",
       "      <td>38847.000000</td>\n",
       "      <td>38847.000000</td>\n",
       "      <td>33619.000000</td>\n",
       "      <td>33619.000000</td>\n",
       "      <td>33619.000000</td>\n",
       "      <td>33619.000000</td>\n",
       "      <td>33619.000000</td>\n",
       "      <td>33619.000000</td>\n",
       "    </tr>\n",
       "    <tr>\n",
       "      <th>mean</th>\n",
       "      <td>122574.573389</td>\n",
       "      <td>0.080545</td>\n",
       "      <td>0.418709</td>\n",
       "      <td>1.711049e+05</td>\n",
       "      <td>5.990255e+05</td>\n",
       "      <td>27110.769061</td>\n",
       "      <td>5.383075e+05</td>\n",
       "      <td>0.020767</td>\n",
       "      <td>-16032.740476</td>\n",
       "      <td>63977.648991</td>\n",
       "      <td>...</td>\n",
       "      <td>0.008418</td>\n",
       "      <td>0.000669</td>\n",
       "      <td>0.000566</td>\n",
       "      <td>0.000386</td>\n",
       "      <td>0.007377</td>\n",
       "      <td>0.007763</td>\n",
       "      <td>0.033285</td>\n",
       "      <td>0.269015</td>\n",
       "      <td>0.260805</td>\n",
       "      <td>1.886047</td>\n",
       "    </tr>\n",
       "    <tr>\n",
       "      <th>std</th>\n",
       "      <td>12986.961189</td>\n",
       "      <td>0.272138</td>\n",
       "      <td>0.725396</td>\n",
       "      <td>6.008824e+05</td>\n",
       "      <td>4.015122e+05</td>\n",
       "      <td>14615.740691</td>\n",
       "      <td>3.689570e+05</td>\n",
       "      <td>0.013764</td>\n",
       "      <td>4357.226298</td>\n",
       "      <td>141429.955979</td>\n",
       "      <td>...</td>\n",
       "      <td>0.091362</td>\n",
       "      <td>0.025862</td>\n",
       "      <td>0.023791</td>\n",
       "      <td>0.019647</td>\n",
       "      <td>0.090308</td>\n",
       "      <td>0.112433</td>\n",
       "      <td>0.197383</td>\n",
       "      <td>0.926456</td>\n",
       "      <td>0.606724</td>\n",
       "      <td>1.864055</td>\n",
       "    </tr>\n",
       "    <tr>\n",
       "      <th>min</th>\n",
       "      <td>100002.000000</td>\n",
       "      <td>0.000000</td>\n",
       "      <td>0.000000</td>\n",
       "      <td>2.565000e+04</td>\n",
       "      <td>4.500000e+04</td>\n",
       "      <td>2052.000000</td>\n",
       "      <td>4.500000e+04</td>\n",
       "      <td>0.000533</td>\n",
       "      <td>-25182.000000</td>\n",
       "      <td>-17531.000000</td>\n",
       "      <td>...</td>\n",
       "      <td>0.000000</td>\n",
       "      <td>0.000000</td>\n",
       "      <td>0.000000</td>\n",
       "      <td>0.000000</td>\n",
       "      <td>0.000000</td>\n",
       "      <td>0.000000</td>\n",
       "      <td>0.000000</td>\n",
       "      <td>0.000000</td>\n",
       "      <td>0.000000</td>\n",
       "      <td>0.000000</td>\n",
       "    </tr>\n",
       "    <tr>\n",
       "      <th>25%</th>\n",
       "      <td>111301.750000</td>\n",
       "      <td>0.000000</td>\n",
       "      <td>0.000000</td>\n",
       "      <td>1.125000e+05</td>\n",
       "      <td>2.700000e+05</td>\n",
       "      <td>16456.500000</td>\n",
       "      <td>2.385000e+05</td>\n",
       "      <td>0.010006</td>\n",
       "      <td>-19666.000000</td>\n",
       "      <td>-2783.000000</td>\n",
       "      <td>...</td>\n",
       "      <td>0.000000</td>\n",
       "      <td>0.000000</td>\n",
       "      <td>0.000000</td>\n",
       "      <td>0.000000</td>\n",
       "      <td>0.000000</td>\n",
       "      <td>0.000000</td>\n",
       "      <td>0.000000</td>\n",
       "      <td>0.000000</td>\n",
       "      <td>0.000000</td>\n",
       "      <td>0.000000</td>\n",
       "    </tr>\n",
       "    <tr>\n",
       "      <th>50%</th>\n",
       "      <td>122655.500000</td>\n",
       "      <td>0.000000</td>\n",
       "      <td>0.000000</td>\n",
       "      <td>1.440000e+05</td>\n",
       "      <td>5.146898e+05</td>\n",
       "      <td>24939.000000</td>\n",
       "      <td>4.500000e+05</td>\n",
       "      <td>0.018850</td>\n",
       "      <td>-15754.500000</td>\n",
       "      <td>-1218.000000</td>\n",
       "      <td>...</td>\n",
       "      <td>0.000000</td>\n",
       "      <td>0.000000</td>\n",
       "      <td>0.000000</td>\n",
       "      <td>0.000000</td>\n",
       "      <td>0.000000</td>\n",
       "      <td>0.000000</td>\n",
       "      <td>0.000000</td>\n",
       "      <td>0.000000</td>\n",
       "      <td>0.000000</td>\n",
       "      <td>1.000000</td>\n",
       "    </tr>\n",
       "    <tr>\n",
       "      <th>75%</th>\n",
       "      <td>133844.250000</td>\n",
       "      <td>0.000000</td>\n",
       "      <td>1.000000</td>\n",
       "      <td>2.025000e+05</td>\n",
       "      <td>8.086500e+05</td>\n",
       "      <td>34587.000000</td>\n",
       "      <td>6.795000e+05</td>\n",
       "      <td>0.028663</td>\n",
       "      <td>-12390.000000</td>\n",
       "      <td>-285.000000</td>\n",
       "      <td>...</td>\n",
       "      <td>0.000000</td>\n",
       "      <td>0.000000</td>\n",
       "      <td>0.000000</td>\n",
       "      <td>0.000000</td>\n",
       "      <td>0.000000</td>\n",
       "      <td>0.000000</td>\n",
       "      <td>0.000000</td>\n",
       "      <td>0.000000</td>\n",
       "      <td>0.000000</td>\n",
       "      <td>3.000000</td>\n",
       "    </tr>\n",
       "    <tr>\n",
       "      <th>max</th>\n",
       "      <td>144993.000000</td>\n",
       "      <td>1.000000</td>\n",
       "      <td>11.000000</td>\n",
       "      <td>1.170000e+08</td>\n",
       "      <td>4.050000e+06</td>\n",
       "      <td>258025.500000</td>\n",
       "      <td>4.050000e+06</td>\n",
       "      <td>0.072508</td>\n",
       "      <td>-7680.000000</td>\n",
       "      <td>365243.000000</td>\n",
       "      <td>...</td>\n",
       "      <td>1.000000</td>\n",
       "      <td>1.000000</td>\n",
       "      <td>1.000000</td>\n",
       "      <td>1.000000</td>\n",
       "      <td>3.000000</td>\n",
       "      <td>6.000000</td>\n",
       "      <td>6.000000</td>\n",
       "      <td>24.000000</td>\n",
       "      <td>8.000000</td>\n",
       "      <td>25.000000</td>\n",
       "    </tr>\n",
       "  </tbody>\n",
       "</table>\n",
       "<p>8 rows × 106 columns</p>\n",
       "</div>"
      ],
      "text/plain": [
       "          SK_ID_CURR        TARGET  CNT_CHILDREN  AMT_INCOME_TOTAL  \\\n",
       "count   38848.000000  38848.000000  38848.000000      3.884800e+04   \n",
       "mean   122574.573389      0.080545      0.418709      1.711049e+05   \n",
       "std     12986.961189      0.272138      0.725396      6.008824e+05   \n",
       "min    100002.000000      0.000000      0.000000      2.565000e+04   \n",
       "25%    111301.750000      0.000000      0.000000      1.125000e+05   \n",
       "50%    122655.500000      0.000000      0.000000      1.440000e+05   \n",
       "75%    133844.250000      0.000000      1.000000      2.025000e+05   \n",
       "max    144993.000000      1.000000     11.000000      1.170000e+08   \n",
       "\n",
       "         AMT_CREDIT    AMT_ANNUITY  AMT_GOODS_PRICE  \\\n",
       "count  3.884800e+04   38848.000000     3.881900e+04   \n",
       "mean   5.990255e+05   27110.769061     5.383075e+05   \n",
       "std    4.015122e+05   14615.740691     3.689570e+05   \n",
       "min    4.500000e+04    2052.000000     4.500000e+04   \n",
       "25%    2.700000e+05   16456.500000     2.385000e+05   \n",
       "50%    5.146898e+05   24939.000000     4.500000e+05   \n",
       "75%    8.086500e+05   34587.000000     6.795000e+05   \n",
       "max    4.050000e+06  258025.500000     4.050000e+06   \n",
       "\n",
       "       REGION_POPULATION_RELATIVE    DAYS_BIRTH  DAYS_EMPLOYED  \\\n",
       "count                38848.000000  38848.000000   38848.000000   \n",
       "mean                     0.020767 -16032.740476   63977.648991   \n",
       "std                      0.013764   4357.226298  141429.955979   \n",
       "min                      0.000533 -25182.000000  -17531.000000   \n",
       "25%                      0.010006 -19666.000000   -2783.000000   \n",
       "50%                      0.018850 -15754.500000   -1218.000000   \n",
       "75%                      0.028663 -12390.000000    -285.000000   \n",
       "max                      0.072508  -7680.000000  365243.000000   \n",
       "\n",
       "                  ...              FLAG_DOCUMENT_18  FLAG_DOCUMENT_19  \\\n",
       "count             ...                  38847.000000      38847.000000   \n",
       "mean              ...                      0.008418          0.000669   \n",
       "std               ...                      0.091362          0.025862   \n",
       "min               ...                      0.000000          0.000000   \n",
       "25%               ...                      0.000000          0.000000   \n",
       "50%               ...                      0.000000          0.000000   \n",
       "75%               ...                      0.000000          0.000000   \n",
       "max               ...                      1.000000          1.000000   \n",
       "\n",
       "       FLAG_DOCUMENT_20  FLAG_DOCUMENT_21  AMT_REQ_CREDIT_BUREAU_HOUR  \\\n",
       "count      38847.000000      38847.000000                33619.000000   \n",
       "mean           0.000566          0.000386                    0.007377   \n",
       "std            0.023791          0.019647                    0.090308   \n",
       "min            0.000000          0.000000                    0.000000   \n",
       "25%            0.000000          0.000000                    0.000000   \n",
       "50%            0.000000          0.000000                    0.000000   \n",
       "75%            0.000000          0.000000                    0.000000   \n",
       "max            1.000000          1.000000                    3.000000   \n",
       "\n",
       "       AMT_REQ_CREDIT_BUREAU_DAY  AMT_REQ_CREDIT_BUREAU_WEEK  \\\n",
       "count               33619.000000                33619.000000   \n",
       "mean                    0.007763                    0.033285   \n",
       "std                     0.112433                    0.197383   \n",
       "min                     0.000000                    0.000000   \n",
       "25%                     0.000000                    0.000000   \n",
       "50%                     0.000000                    0.000000   \n",
       "75%                     0.000000                    0.000000   \n",
       "max                     6.000000                    6.000000   \n",
       "\n",
       "       AMT_REQ_CREDIT_BUREAU_MON  AMT_REQ_CREDIT_BUREAU_QRT  \\\n",
       "count               33619.000000               33619.000000   \n",
       "mean                    0.269015                   0.260805   \n",
       "std                     0.926456                   0.606724   \n",
       "min                     0.000000                   0.000000   \n",
       "25%                     0.000000                   0.000000   \n",
       "50%                     0.000000                   0.000000   \n",
       "75%                     0.000000                   0.000000   \n",
       "max                    24.000000                   8.000000   \n",
       "\n",
       "       AMT_REQ_CREDIT_BUREAU_YEAR  \n",
       "count                33619.000000  \n",
       "mean                     1.886047  \n",
       "std                      1.864055  \n",
       "min                      0.000000  \n",
       "25%                      0.000000  \n",
       "50%                      1.000000  \n",
       "75%                      3.000000  \n",
       "max                     25.000000  \n",
       "\n",
       "[8 rows x 106 columns]"
      ]
     },
     "execution_count": 3,
     "metadata": {},
     "output_type": "execute_result"
    }
   ],
   "source": [
    "train_data.describe()"
   ]
  },
  {
   "cell_type": "markdown",
   "metadata": {},
   "source": [
    "- **Data cleaning & Missing values**: There are quite a lot of missing values in most columns. We can see the number of missing values of each column as below. For simplicity, I will drop all the missing values and explore the interesting relationship between different variables. After dropping all the missing values, the dataset only has 1059 observations left."
   ]
  },
  {
   "cell_type": "code",
   "execution_count": 4,
   "metadata": {},
   "outputs": [
    {
     "data": {
      "text/plain": [
       "SK_ID_CURR                        0\n",
       "TARGET                            0\n",
       "NAME_CONTRACT_TYPE                0\n",
       "CODE_GENDER                       0\n",
       "FLAG_OWN_CAR                      0\n",
       "FLAG_OWN_REALTY                   0\n",
       "CNT_CHILDREN                      0\n",
       "AMT_INCOME_TOTAL                  0\n",
       "AMT_CREDIT                        0\n",
       "AMT_ANNUITY                       0\n",
       "AMT_GOODS_PRICE                  29\n",
       "NAME_TYPE_SUITE                 153\n",
       "NAME_INCOME_TYPE                  0\n",
       "NAME_EDUCATION_TYPE               0\n",
       "NAME_FAMILY_STATUS                0\n",
       "NAME_HOUSING_TYPE                 0\n",
       "REGION_POPULATION_RELATIVE        0\n",
       "DAYS_BIRTH                        0\n",
       "DAYS_EMPLOYED                     0\n",
       "DAYS_REGISTRATION                 0\n",
       "DAYS_ID_PUBLISH                   0\n",
       "OWN_CAR_AGE                   25616\n",
       "FLAG_MOBIL                        0\n",
       "FLAG_EMP_PHONE                    1\n",
       "FLAG_WORK_PHONE                   1\n",
       "FLAG_CONT_MOBILE                  1\n",
       "FLAG_PHONE                        1\n",
       "FLAG_EMAIL                        1\n",
       "OCCUPATION_TYPE               12221\n",
       "CNT_FAM_MEMBERS                   1\n",
       "                              ...  \n",
       "DEF_30_CNT_SOCIAL_CIRCLE        130\n",
       "OBS_60_CNT_SOCIAL_CIRCLE        130\n",
       "DEF_60_CNT_SOCIAL_CIRCLE        130\n",
       "DAYS_LAST_PHONE_CHANGE            2\n",
       "FLAG_DOCUMENT_2                   1\n",
       "FLAG_DOCUMENT_3                   1\n",
       "FLAG_DOCUMENT_4                   1\n",
       "FLAG_DOCUMENT_5                   1\n",
       "FLAG_DOCUMENT_6                   1\n",
       "FLAG_DOCUMENT_7                   1\n",
       "FLAG_DOCUMENT_8                   1\n",
       "FLAG_DOCUMENT_9                   1\n",
       "FLAG_DOCUMENT_10                  1\n",
       "FLAG_DOCUMENT_11                  1\n",
       "FLAG_DOCUMENT_12                  1\n",
       "FLAG_DOCUMENT_13                  1\n",
       "FLAG_DOCUMENT_14                  1\n",
       "FLAG_DOCUMENT_15                  1\n",
       "FLAG_DOCUMENT_16                  1\n",
       "FLAG_DOCUMENT_17                  1\n",
       "FLAG_DOCUMENT_18                  1\n",
       "FLAG_DOCUMENT_19                  1\n",
       "FLAG_DOCUMENT_20                  1\n",
       "FLAG_DOCUMENT_21                  1\n",
       "AMT_REQ_CREDIT_BUREAU_HOUR     5229\n",
       "AMT_REQ_CREDIT_BUREAU_DAY      5229\n",
       "AMT_REQ_CREDIT_BUREAU_WEEK     5229\n",
       "AMT_REQ_CREDIT_BUREAU_MON      5229\n",
       "AMT_REQ_CREDIT_BUREAU_QRT      5229\n",
       "AMT_REQ_CREDIT_BUREAU_YEAR     5229\n",
       "Length: 122, dtype: int64"
      ]
     },
     "execution_count": 4,
     "metadata": {},
     "output_type": "execute_result"
    }
   ],
   "source": [
    "train_data.isnull().sum()"
   ]
  },
  {
   "cell_type": "code",
   "execution_count": 5,
   "metadata": {},
   "outputs": [
    {
     "data": {
      "text/plain": [
       "(1059, 122)"
      ]
     },
     "execution_count": 5,
     "metadata": {},
     "output_type": "execute_result"
    }
   ],
   "source": [
    "#drop missing values\n",
    "train_data_dropna = train_data.dropna()\n",
    "train_data_dropna.shape"
   ]
  },
  {
   "cell_type": "markdown",
   "metadata": {},
   "source": [
    "- **Takeaways from exploring data**: I didn't see any relationship between variables that are very counter-intuitive. Take the plots below as examples. \n",
    "1. *TARGET vs AMT_CREDIT*: This plot illustrates the relationship between *TARGET*(0=all other cases, 1= payment difficuties) and *AMT_CREDIT* (loan applicants' credit amount). As credit amounts represent the financial heath of applicants, the more credit amount one has, the less likely the applicant will default their loan."
   ]
  },
  {
   "cell_type": "code",
   "execution_count": 8,
   "metadata": {},
   "outputs": [
    {
     "data": {
      "image/png": "[encoded data removed]",
      "text/plain": [
       "<matplotlib.figure.Figure at 0x10e796c18>"
      ]
     },
     "metadata": {},
     "output_type": "display_data"
    },
    {
     "data": {
      "image/png": "[encoded data removed]",
      "text/plain": [
       "<matplotlib.figure.Figure at 0x11353a358>"
      ]
     },
     "metadata": {},
     "output_type": "display_data"
    }
   ],
   "source": [
    "import matplotlib.pyplot as plt\n",
    "train_data_dropna.boxplot(column = \"AMT_CREDIT\", by = \"TARGET\", fontsize = \"large\")\n",
    "plt.show()"
   ]
  },
  {
   "cell_type": "markdown",
   "metadata": {},
   "source": [
    "- *TARGET vs AMT_INCOME_TOTAL*: This plot illustrates the relationship between *TARGET*(0=all other cases, 1= payment difficuties) and *AMT_INCOME_TOTAL* (loan applicants' annual income). It's intutive that applicants with higher incomes are less likely to default their debts."
   ]
  },
  {
   "cell_type": "code",
   "execution_count": 9,
   "metadata": {},
   "outputs": [
    {
     "data": {
      "image/png": "[encoded data removed]",
      "text/plain": [
       "<matplotlib.figure.Figure at 0x1135e1fd0>"
      ]
     },
     "metadata": {},
     "output_type": "display_data"
    }
   ],
   "source": [
    "train_data_dropna.boxplot(column = \"AMT_INCOME_TOTAL\", by = \"TARGET\", fontsize = \"large\")\n",
    "plt.show()"
   ]
  },
  {
   "cell_type": "markdown",
   "metadata": {},
   "source": [
    "- *TARGET vs AMT_REQ_CREDIT_BUREAU_YEAR*: This plot illustrates the relationship between *TARGET*(0=all other cases, 1= payment difficuties) and *AMT_REQ_CREDIT_BUREAU_YEAR* (Number of enquiries to Credit Bureau about the client one day year). This is a little bit counter-intuitive. Based on banking practices, the higher *AMT_REQ_CREDIT_BUREAU_YEAR* is, the higher chance that the applicant will default their debt because it shows that applicant has track records of applying for many loans. Based on the chart below, I don't see clear difference between *TARGET* = 0 and 1 on *AMT_REQ_CREDIT_BUREAU_YEAR*."
   ]
  },
  {
   "cell_type": "code",
   "execution_count": 10,
   "metadata": {},
   "outputs": [
    {
     "data": {
      "image/png": "[encoded data removed]",
      "text/plain": [
       "<matplotlib.figure.Figure at 0x113615710>"
      ]
     },
     "metadata": {},
     "output_type": "display_data"
    }
   ],
   "source": [
    "train_data_dropna.boxplot(column = \"AMT_REQ_CREDIT_BUREAU_YEAR\", by = \"TARGET\", fontsize = \"large\")\n",
    "plt.show()"
   ]
  },
  {
   "cell_type": "markdown",
   "metadata": {},
   "source": [
    "- *TARGET vs DAYS_EMPLOYED*: This plot illustrates the relationship between *TARGET*(0=all other cases, 1= payment difficuties) and *DAYS_EMPLOYED* (the length of applicants' employment history). The data suggests that the longer the employment history is, the less likely one will default their debt, which makes sense."
   ]
  },
  {
   "cell_type": "code",
   "execution_count": 12,
   "metadata": {},
   "outputs": [
    {
     "data": {
      "image/png": "[encoded data removed]",
      "text/plain": [
       "<matplotlib.figure.Figure at 0x11d730e48>"
      ]
     },
     "metadata": {},
     "output_type": "display_data"
    }
   ],
   "source": [
    "train_data_dropna.boxplot(column = \"DAYS_EMPLOYED\", by = \"TARGET\", fontsize = \"large\")\n",
    "plt.show()"
   ]
  },
  {
   "cell_type": "markdown",
   "metadata": {},
   "source": [
    "- Repository Link on Github: https://github.com/WilliamWJHuang/machine-learning-course"
   ]
  }
 ],
 "metadata": {
  "kernelspec": {
   "display_name": "Python 3",
   "language": "python",
   "name": "python3"
  },
  "language_info": {
   "codemirror_mode": {
    "name": "ipython",
    "version": 3
   },
   "file_extension": ".py",
   "mimetype": "text/x-python",
   "name": "python",
   "nbconvert_exporter": "python",
   "pygments_lexer": "ipython3",
   "version": "3.6.3"
  }
 },
 "nbformat": 4,
 "nbformat_minor": 2
}
